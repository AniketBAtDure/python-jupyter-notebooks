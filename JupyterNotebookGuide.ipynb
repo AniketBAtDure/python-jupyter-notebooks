{
 "cells": [
  {
   "cell_type": "markdown",
   "metadata": {},
   "source": [
    "## Hi Dad!  This is a brief intro on using your jupyter notebook\n",
    "NB: This is a Python 3 notebook"
   ]
  },
  {
   "cell_type": "markdown",
   "metadata": {},
   "source": [
    "### In this figure are a few labels of notebook parts I will refer to\n",
    "![Parts](https://www.packtpub.com/sites/default/files/Article-Images/B01727_03.png)"
   ]
  },
  {
   "cell_type": "markdown",
   "metadata": {},
   "source": [
    "> 1. You can click in the Notebook Name area and rename your notebook\n",
    "2. Your notebook is saved to the directory you started this server from (as a general rule though I download the notebook at intervals in addition to saving it just in case)\n",
    "3.  To <b>download</b> the notebook, go to the Menu bar -> File -> Download As -> IPython Notebook (.ipynb) (if you do this you will see you can actually download in many different formats)\n",
    "4. In the toolbar you can add a new cell with the <b>+</b>, run the notebook (the triangle button - might look different in your notebook like a triangle with a line after it)\n",
    "5.  Cell type defaults to <b>Code</b>.  You can change this to <b>Markdown</b> if you want to take notes (markdown is it's own language, but that's what all the text here is written in, double click on this text to see it)\n",
    "6.  <b>Code</b> cell types are grey"
   ]
  },
  {
   "cell_type": "markdown",
   "metadata": {},
   "source": [
    "### NB:  I actually never run a cell with the Toolbar button.  I use the shortcut Control+Enter to run a cell (any type)"
   ]
  },
  {
   "cell_type": "code",
   "execution_count": null,
   "metadata": {
    "collapsed": false
   },
   "outputs": [],
   "source": [
    "# This is a python comment\n",
    "# Go ahead and run this Code cell by hitting Control+Enter (same time)\n",
    "print(\"Hi Dad!  This is the output of the print method.\")"
   ]
  },
  {
   "cell_type": "markdown",
   "metadata": {},
   "source": [
    "### As you can see on your jupyter homepage you can open up any notebook\n",
    "<b>NB: You can return to the homepage by clicking the Jupyter icon in the very upper left corner at any time</b>\n",
    "### You can also Upload a notebook (button on upper right)\n",
    "![Upload button](http://www.ciser.cornell.edu/data_wrangling/python_intro/images/JupyterUpload.gif)\n",
    "### As well as start a new notebook with either a Python 2 or Python 3 kernel (button to the right of Upload)\n",
    "![New menu](https://www.ibm.com/developerworks/community/blogs/jfp/resource/BLOGS_UPLOADED_IMAGES/irkernel48.png)"
   ]
  },
  {
   "cell_type": "markdown",
   "metadata": {},
   "source": [
    "### The nifty thing about Jupyter notebooks (and the .ipynb files which you can download and upload) is that you can share these.  They are just written in JSON language.  I put them up in places like GitHub and point people in that direction.  I highly recommend getting a github account.  It's so far the best way to share and collaborate on open-source code."
   ]
  },
  {
   "cell_type": "code",
   "execution_count": null,
   "metadata": {
    "collapsed": true
   },
   "outputs": [],
   "source": []
  }
 ],
 "metadata": {
  "kernelspec": {
   "display_name": "Python 3",
   "language": "python",
   "name": "python3"
  },
  "language_info": {
   "codemirror_mode": {
    "name": "ipython",
    "version": 3
   },
   "file_extension": ".py",
   "mimetype": "text/x-python",
   "name": "python",
   "nbconvert_exporter": "python",
   "pygments_lexer": "ipython3",
   "version": "3.4.3"
  }
 },
 "nbformat": 4,
 "nbformat_minor": 0
}
