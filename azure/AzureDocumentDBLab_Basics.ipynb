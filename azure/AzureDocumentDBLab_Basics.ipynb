{
 "cells": [
  {
   "cell_type": "markdown",
   "metadata": {},
   "source": [
    "## Azure DocumentDB Lab - The Basics"
   ]
  },
  {
   "cell_type": "markdown",
   "metadata": {},
   "source": [
    "### Install the DocumentDB Python SDK"
   ]
  },
  {
   "cell_type": "code",
   "execution_count": 12,
   "metadata": {
    "collapsed": false
   },
   "outputs": [
    {
     "name": "stdout",
     "output_type": "stream",
     "text": [
      "Requirement already satisfied (use --upgrade to upgrade): pydocumentdb in /home/nbcommon/anaconda3_410/lib/python3.5/site-packages\n",
      "Requirement already satisfied (use --upgrade to upgrade): requests==2.10.0 in /home/nbcommon/anaconda3_410/lib/python3.5/site-packages (from pydocumentdb)\n",
      "Requirement already satisfied (use --upgrade to upgrade): six>=1.6 in /home/nbcommon/anaconda3_410/lib/python3.5/site-packages (from pydocumentdb)\n",
      "\u001b[33mYou are using pip version 8.1.2, however version 9.0.1 is available.\n",
      "You should consider upgrading via the 'pip install --upgrade pip' command.\u001b[0m\n"
     ]
    }
   ],
   "source": [
    "!pip install pydocumentdb"
   ]
  },
  {
   "cell_type": "markdown",
   "metadata": {},
   "source": [
    "### Imports"
   ]
  },
  {
   "cell_type": "code",
   "execution_count": 13,
   "metadata": {
    "collapsed": false
   },
   "outputs": [],
   "source": [
    "import json\n",
    "from urllib.request import urlopen, Request\n",
    "\n",
    "import pydocumentdb.documents as documents\n",
    "import pydocumentdb.document_client as document_client\n",
    "import pydocumentdb.errors as errors"
   ]
  },
  {
   "cell_type": "code",
   "execution_count": 32,
   "metadata": {
    "collapsed": true
   },
   "outputs": [],
   "source": [
    "# Fill these in with your specific information\n",
    "DOCUMENTDB_ACCOUNT = 'your docdb account name here'\n",
    "KEY = 'your key here=='\n",
    "\n",
    "# Host or URI\n",
    "URI = 'https://%s.documents.azure.com:443/' % DOCUMENTDB_ACCOUNT\n",
    "\n",
    "# Name of the database and collection (these will get created in lab)\n",
    "DATABASE = 'test_docdb'\n",
    "COLLECTION = 'test_coll'"
   ]
  },
  {
   "cell_type": "markdown",
   "metadata": {},
   "source": [
    "### Create a database"
   ]
  },
  {
   "cell_type": "code",
   "execution_count": 37,
   "metadata": {
    "collapsed": false
   },
   "outputs": [
    {
     "name": "stderr",
     "output_type": "stream",
     "text": [
      "INFO:Starting new HTTPS connection (1): training-docdb.documents.azure.com\n",
      "INFO:Starting new HTTPS connection (1): training-docdb-westus.documents.azure.com\n"
     ]
    }
   ],
   "source": [
    "# Firstly, make a client connection to \n",
    "\n",
    "client = document_client.DocumentClient(URI, {'masterKey': KEY})\n",
    "\n",
    "# Select database with id listed in our configuration settings\n",
    "#   and create an iterable object over databases\n",
    "query_iterable = client.QueryDatabases('SELECT * FROM root r WHERE r.id=\"%s\"' % DATABASE)\n",
    "it = iter(query_iterable)\n",
    "\n",
    "# Grab the database or if it doesn't exist, none is returned\n",
    "test_db = next(it, None)\n",
    "\n",
    "# Create the database only if it does not exist (which it should not if torn down properly)\n",
    "if test_db is None:\n",
    "    test_db = client.CreateDatabase({'id' : DATABASE})\n",
    "    print(\"Created database: \", DATABASE)"
   ]
  },
  {
   "cell_type": "markdown",
   "metadata": {},
   "source": [
    "### Create a collection"
   ]
  },
  {
   "cell_type": "code",
   "execution_count": 38,
   "metadata": {
    "collapsed": false
   },
   "outputs": [
    {
     "name": "stdout",
     "output_type": "stream",
     "text": [
      "[{'_colls': 'colls/', '_self': 'dbs/X2A0AA==/', '_users': 'users/', 'id': 'ToDoList', '_ts': 1483569552, '_rid': 'X2A0AA==', '_etag': '\"00007100-0000-0000-0000-586d79950000\"'}, {'_colls': 'colls/', '_self': 'dbs/lShQAA==/', '_users': 'users/', 'id': 'test_docdb', '_ts': 1483572531, '_rid': 'lShQAA==', '_etag': '\"00002301-0000-0000-0000-586d85380000\"'}]\n"
     ]
    },
    {
     "data": {
      "text/plain": [
       "[{'_conflicts': 'conflicts/',\n",
       "  '_docs': 'docs/',\n",
       "  '_etag': '\"00004701-0000-0000-0000-586e337a0000\"',\n",
       "  '_rid': 'lShQAOYrOA0=',\n",
       "  '_self': 'dbs/lShQAA==/colls/lShQAOYrOA0=/',\n",
       "  '_sprocs': 'sprocs/',\n",
       "  '_triggers': 'triggers/',\n",
       "  '_ts': 1483617140,\n",
       "  '_udfs': 'udfs/',\n",
       "  'defaultTtl': 5,\n",
       "  'id': 'test_coll',\n",
       "  'indexingPolicy': {'automatic': True,\n",
       "   'excludedPaths': [],\n",
       "   'includedPaths': [{'indexes': [{'dataType': 'Number',\n",
       "       'kind': 'Range',\n",
       "       'precision': -1},\n",
       "      {'dataType': 'String', 'kind': 'Hash', 'precision': 3}],\n",
       "     'path': '/*'}],\n",
       "   'indexingMode': 'consistent'}}]"
      ]
     },
     "execution_count": 38,
     "metadata": {},
     "output_type": "execute_result"
    }
   ],
   "source": [
    "# Again, read databases into a list to check if ours is there\n",
    "existing_databases = list(client.ReadDatabases())\n",
    "print(existing_databases)\n",
    "\n",
    "# Create the test collection only when it's not already present\n",
    "query_iterable = client.QueryCollections(test_db['_self'],\n",
    "                                            'SELECT * FROM root r WHERE r.id=\"%s\"' % COLLECTION)\n",
    "it = iter(query_iterable)\n",
    "\n",
    "# Grab the collection (named in configuration info) or if it doesn't exist, none is returned\n",
    "test_coll = next(it, None)\n",
    "\n",
    "# Create the collection only if it doesn't exist (which it should not if torn down properly)\n",
    "if test_coll is None:\n",
    "    test_coll = client.CreateCollection(test_db['_self'], {'id' : COLLECTION})\n",
    "    print(\"Created collection: \", COLLECTION)\n",
    "\n",
    "# List existing collections\n",
    "list(client.ReadCollections(test_db['_self']))"
   ]
  },
  {
   "cell_type": "markdown",
   "metadata": {},
   "source": [
    "### Working with documents"
   ]
  },
  {
   "cell_type": "code",
   "execution_count": 39,
   "metadata": {
    "collapsed": false
   },
   "outputs": [],
   "source": [
    "# Read json documents and add to the collection\n",
    "\n",
    "# a place to store the document definitions\n",
    "doc_definitions = []\n",
    "\n",
    "urls = ['https://gist.githubusercontent.com/michhar/dfa446fd2336f9661a7b3938bd692970/raw/59d38e137c3d86b1052b3a9be2aa7fbe16bb3c05/movie001.json',\n",
    "        'https://gist.githubusercontent.com/michhar/dfa446fd2336f9661a7b3938bd692970/raw/59d38e137c3d86b1052b3a9be2aa7fbe16bb3c05/movie002.json',\n",
    "        'https://gist.githubusercontent.com/michhar/dfa446fd2336f9661a7b3938bd692970/raw/59d38e137c3d86b1052b3a9be2aa7fbe16bb3c05/movie003.json']\n",
    "        \n",
    "# collect all json documents from the URLs\n",
    "for doc in urls:\n",
    "    \n",
    "    # try clause to grab our json document data and read in to a dictionary\n",
    "    try:\n",
    "        # Send out url request\n",
    "        response = urlopen(doc)\n",
    "\n",
    "        # Response will be in json file format, in Python3 must decode\n",
    "        respjson = response.read().decode(\"utf-8\")\n",
    "\n",
    "        # Let's convert json to a python dictionary\n",
    "        respdict = json.loads(respjson)\n",
    "        \n",
    "        doc_definitions.append(respdict)\n",
    "        \n",
    "    # Exception handling\n",
    "    except HTTPError as e:\n",
    "        print('HTTP Error message: %s' % e.message)\n",
    "    except URLError as e:\n",
    "        print('HTTP Error message: %s' % e.args)\n",
    "    except HTTPException as e:\n",
    "        print('HTTP Error message: %s' % e.args)\n",
    "    except Exception:\n",
    "        import traceback\n",
    "        print('generic exception: ' + traceback.format_exc())"
   ]
  },
  {
   "cell_type": "code",
   "execution_count": 40,
   "metadata": {
    "collapsed": false
   },
   "outputs": [
    {
     "name": "stdout",
     "output_type": "stream",
     "text": [
      "{'Cache-Control': 'no-store, no-cache', 'x-ms-session-token': '0:59', 'Content-Type': 'application/json', 'x-ms-xp-role': '1', 'Pragma': 'no-cache', 'x-ms-alt-content-path': 'dbs/test_docdb/colls/test_coll', 'Content-Location': 'https://training-docdb-westus.documents.azure.com/dbs/lShQAA==/colls/lShQAOYrOA0=/docs/lShQAOYrOA0GAAAAAAAAAA==/', 'x-ms-gatewayversion': 'version=1.10.85.2', 'Transfer-Encoding': 'chunked', 'Date': 'Thu, 05 Jan 2017 11:57:07 GMT', 'x-ms-request-charge': '1', 'x-ms-schemaversion': '1.2', 'x-ms-resource-usage': 'documentSize=0;documentsSize=5;collectionSize=5;', 'etag': '\"1f02548b-0000-0000-0000-586e34910000\"', 'x-ms-serviceversion': 'version=1.10.85.2', 'Strict-Transport-Security': 'max-age=31536000', 'Server': 'Microsoft-HTTPAPI/2.0', 'x-ms-last-state-change-utc': 'Thu, 05 Jan 2017 08:02:06.014 GMT', 'x-ms-resource-quota': 'documentSize=10240;documentsSize=10485760;collectionSize=10485760;', 'x-ms-activity-id': '14775447-4e99-4fbf-8631-22251b91b659'}\n"
     ]
    }
   ],
   "source": [
    "# An empty container to save document ids for later\n",
    "#   (these are generated when we create the doc)\n",
    "doc_ids = []\n",
    "\n",
    "# Go through each document definition from reading in the documents above and\n",
    "#  create a document (insert one) in our DocumentDB collection\n",
    "for doc_def in doc_definitions:\n",
    "\n",
    "    # Create document in the DocDB database/collection\n",
    "    #   - this will create a document with a unique id - so doc will not be overwritten\n",
    "    #   - if one wishes to overwrite docs, it's easy enough, as we are saving ids\n",
    "    #   - or one could give the doc an id (e.g., doc['id'] = filename)\n",
    "    created_doc = client.CreateDocument(test_coll['_self'], doc_def)\n",
    "\n",
    "    # Save the document id in case we need to reference these later\n",
    "    doc_ids.append(created_doc['id'])\n",
    "\n",
    "# Check location from last doc added using the document's link\n",
    "client.ReadDocument(created_doc['_self'])\n",
    "print(client.last_response_headers)"
   ]
  },
  {
   "cell_type": "markdown",
   "metadata": {},
   "source": [
    "### Query the documents"
   ]
  },
  {
   "cell_type": "code",
   "execution_count": 41,
   "metadata": {
    "collapsed": false
   },
   "outputs": [],
   "source": [
    "# an order by query\n",
    "query = {\n",
    "        'query': 'SELECT * FROM test_coll'\n",
    "}    \n",
    "\n",
    "options = {} \n",
    "options['enableCrossPartitionQuery'] = True\n",
    "options['maxItemCount'] = 2\n",
    "\n",
    "# collection_link = database_link + '/colls/%s' % test_coll['id']\n",
    "\n",
    "result_iterable = client.QueryDocuments(test_coll['_self'], query, options)"
   ]
  },
  {
   "cell_type": "code",
   "execution_count": 42,
   "metadata": {
    "collapsed": false
   },
   "outputs": [
    {
     "name": "stdout",
     "output_type": "stream",
     "text": [
      "{   '_attachments': 'attachments/',\n",
      "    '_etag': '\"1f02518b-0000-0000-0000-586e34910000\"',\n",
      "    '_rid': 'lShQAOYrOA0EAAAAAAAAAA==',\n",
      "    '_self': 'dbs/lShQAA==/colls/lShQAOYrOA0=/docs/lShQAOYrOA0EAAAAAAAAAA==/',\n",
      "    '_ts': 1483617425,\n",
      "    'actors': [   'Chris Pratt',\n",
      "                  'Bryce Dallas Howard',\n",
      "                  'Irrfan Khan',\n",
      "                  \"Vincent D'Onofrio\"],\n",
      "    'director': ['Colin Trevorrow'],\n",
      "    'genre': 'Action, Adventure, Sci-Fi',\n",
      "    'id': '2140a235-a238-46f7-896b-090b87ced864',\n",
      "    'imdbid': 'tt0369610',\n",
      "    'language': ['English'],\n",
      "    'plot': 'A new theme park is built on the original site of Jurassic Park. '\n",
      "            \"Everything is going well until the park's newest attraction - a \"\n",
      "            'genetically modified giant stealth killing machine - escapes '\n",
      "            'containment and goes on a killing spree.',\n",
      "    'released': '12 Jun 2015',\n",
      "    'runtime': '124 min',\n",
      "    'title': 'Jurassic World',\n",
      "    'titleid': 1,\n",
      "    'year': '2015'}\n",
      "\n",
      "\n",
      "{   '_attachments': 'attachments/',\n",
      "    '_etag': '\"1f02528b-0000-0000-0000-586e34910000\"',\n",
      "    '_rid': 'lShQAOYrOA0FAAAAAAAAAA==',\n",
      "    '_self': 'dbs/lShQAA==/colls/lShQAOYrOA0=/docs/lShQAOYrOA0FAAAAAAAAAA==/',\n",
      "    '_ts': 1483617425,\n",
      "    'actors': ['Bradley Cooper', 'Kyle Gallner', 'Cole Konis', 'Ben Reed'],\n",
      "    'director': ['Clint Eastwood'],\n",
      "    'genre': 'Action, Biography, Drama',\n",
      "    'id': '0d24ef58-7d01-4905-a221-eef7cbd8c0af',\n",
      "    'imdbid': 'tt2179136',\n",
      "    'language': ['English', 'Arabic'],\n",
      "    'plot': 'Chris Kyle was nothing more than a Texan man who dreamed of '\n",
      "            'becoming a cowboy, but in his thirties he found out that maybe '\n",
      "            'his life needed something different, something where he could '\n",
      "            'express his real talent, something that could help America in its '\n",
      "            'fight against terrorism. So he joined the SEALs in order to '\n",
      "            'become a sniper. After marrying, Kyle and the other members of '\n",
      "            \"the team are called for their first tour of Iraq. Kyle's struggle \"\n",
      "            \"isn't with his missions, but about his relationship with the \"\n",
      "            'reality of the war and, once returned at home, how he manages to '\n",
      "            'handle it with his urban life, his wife and kids.',\n",
      "    'released': '16 Jan 2015',\n",
      "    'runtime': '133 min',\n",
      "    'title': 'American Sniper',\n",
      "    'titleid': 2,\n",
      "    'year': '2014'}\n",
      "\n",
      "\n",
      "{   '_attachments': 'attachments/',\n",
      "    '_etag': '\"1f02548b-0000-0000-0000-586e34910000\"',\n",
      "    '_rid': 'lShQAOYrOA0GAAAAAAAAAA==',\n",
      "    '_self': 'dbs/lShQAA==/colls/lShQAOYrOA0=/docs/lShQAOYrOA0GAAAAAAAAAA==/',\n",
      "    '_ts': 1483617425,\n",
      "    'actors': [   'Vin Diesel',\n",
      "                  'Paul Walker',\n",
      "                  'Jason Statham',\n",
      "                  'Michelle Rodriguez'],\n",
      "    'director': ['James Wan'],\n",
      "    'genre': 'Action, Crime, Thriller',\n",
      "    'id': 'da338bdb-6749-4012-962b-f9621147c2ad',\n",
      "    'imdbid': 'tt2820852',\n",
      "    'language': ['English'],\n",
      "    'plot': 'Deckard Shaw seeks revenge against Dominic Toretto and his family '\n",
      "            'for his comatose brother.',\n",
      "    'released': '03 Apr 2015',\n",
      "    'runtime': '137 min',\n",
      "    'title': 'Furious 7',\n",
      "    'titleid': 3,\n",
      "    'year': '2015'}\n",
      "\n",
      "\n"
     ]
    }
   ],
   "source": [
    "import pprint\n",
    "pp = pprint.PrettyPrinter(indent=4)\n",
    "\n",
    "it = iter(result_iterable)\n",
    "for _ in it:\n",
    "    pp.pprint(_)\n",
    "    print('\\n')"
   ]
  },
  {
   "cell_type": "markdown",
   "metadata": {
    "collapsed": true
   },
   "source": [
    "### Delete the collection (which also deletes the documents)"
   ]
  },
  {
   "cell_type": "code",
   "execution_count": 31,
   "metadata": {
    "collapsed": false,
    "scrolled": false
   },
   "outputs": [
    {
     "data": {
      "text/plain": [
       "[]"
      ]
     },
     "execution_count": 31,
     "metadata": {},
     "output_type": "execute_result"
    }
   ],
   "source": [
    "database_link = test_db['_self']\n",
    "\n",
    "# Build a collection link from the collection id\n",
    "collection_link = test_coll['_self']\n",
    "\n",
    "# Delete the collection, deleting also all of the documents contained wherein\n",
    "del_coll = client.DeleteCollection(collection_link)\n",
    "\n",
    "# We could also have queried for this collection and created the collection link from that\n",
    "\n",
    "# List existing collections\n",
    "list(client.ReadCollections(test_db['_self']))"
   ]
  },
  {
   "cell_type": "code",
   "execution_count": null,
   "metadata": {
    "collapsed": true
   },
   "outputs": [],
   "source": []
  }
 ],
 "metadata": {
  "kernelspec": {
   "display_name": "Python 3",
   "language": "python",
   "name": "python3"
  },
  "language_info": {
   "codemirror_mode": {
    "name": "ipython",
    "version": 3
   },
   "file_extension": ".py",
   "mimetype": "text/x-python",
   "name": "python",
   "nbconvert_exporter": "python",
   "pygments_lexer": "ipython3",
   "version": "3.5.1"
  }
 },
 "nbformat": 4,
 "nbformat_minor": 2
}
