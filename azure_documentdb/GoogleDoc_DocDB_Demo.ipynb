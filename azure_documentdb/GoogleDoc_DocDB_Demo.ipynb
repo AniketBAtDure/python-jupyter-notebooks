{
 "cells": [
  {
   "cell_type": "markdown",
   "metadata": {},
   "source": [
    "# Collaborating on Google Spreadsheets with Azure DocumentDB\n",
    "### using Google Drive API with `gspread` + DocumentDB python SDK"
   ]
  },
  {
   "cell_type": "code",
   "execution_count": null,
   "metadata": {
    "collapsed": true
   },
   "outputs": [],
   "source": [
    "# My imports\n",
    "import json\n",
    "import os\n",
    "import gspread\n",
    "from oauth2client.client import SignedJwtAssertionCredentials\n",
    "import pandas as pd\n",
    "import pydocumentdb.document_client as document_client\n",
    "from pandas.io.json import read_json"
   ]
  },
  {
   "cell_type": "markdown",
   "metadata": {},
   "source": [
    "### Using `gspread` module to interact with Google Drive API"
   ]
  },
  {
   "cell_type": "code",
   "execution_count": null,
   "metadata": {
    "collapsed": false
   },
   "outputs": [],
   "source": [
    "# Specify my google drive api credentials\n",
    "json_key = json.load(open('MessyDoc-8f814e3f2a78.json'))\n",
    "scope = ['https://spreadsheets.google.com/feeds']\n",
    "credentials = SignedJwtAssertionCredentials(json_key['client_email'], json_key['private_key'].encode(), scope)\n",
    "\n",
    "# Using gspread module and my credentials, grab the google doc I want\n",
    "gc = gspread.authorize(credentials)\n",
    "wksheet = gc.open(\"SSF_Crop_Master_2012_Master_crop_master\").worksheet('latest')"
   ]
  },
  {
   "cell_type": "markdown",
   "metadata": {},
   "source": [
    "### Read out a document from DocDB database/collection and put into `pandas` df"
   ]
  },
  {
   "cell_type": "code",
   "execution_count": null,
   "metadata": {
    "collapsed": false
   },
   "outputs": [],
   "source": [
    "# Specify my DocumentDB settings\n",
    "DOCUMENTDB_HOST = 'https://testingflask.documents.azure.com:443/'\n",
    "DOCUMENTDB_KEY = 's610r3ylWxHNW8...=='\n",
    "DOCDB_DATABASE = 'mladsapp'\n",
    "DOCDB_COLLECTION_USER = 'user_collection'\n",
    "DOCDB_COLLECTION_MASTER = 'master_collection'\n",
    "DOCDB_MASTER_DOC = 'masterdoc'\n",
    "\n",
    "# make a client connection\n",
    "client = document_client.DocumentClient(DOCUMENTDB_HOST, {'masterKey': DOCUMENTDB_KEY})\n",
    "\n",
    "# Read databases and get our working database\n",
    "db = next((data for data in client.ReadDatabases() if data['id'] == DOCDB_DATABASE))\n",
    "\n",
    "# Read collections and get the \"master collection\"\n",
    "coll_master = next((coll for coll in client.ReadCollections(db['_self']) if coll['id'] == DOCDB_COLLECTION_MASTER))\n",
    "\n",
    "# Read master document and place data into dataframe\n",
    "master_doc = next((doc for doc in client.ReadDocuments(coll_master['_self']) if doc['id'] == DOCDB_MASTER_DOC))\n",
    "raw_data_df = read_json(master_doc['data'])\n",
    "raw_data_df.columns = read_json(master_doc['data_headers'])\n",
    "\n",
    "print(raw_data_df.shape)\n",
    "\n",
    "# Tidy up column names\n",
    "cols = raw_data_df.columns\n",
    "raw_data_df.columns = [e[0].encode('utf-8') for e in cols]"
   ]
  },
  {
   "cell_type": "markdown",
   "metadata": {},
   "source": [
    "### Do something to `pandas` df and update it in DocDB"
   ]
  },
  {
   "cell_type": "code",
   "execution_count": null,
   "metadata": {
    "collapsed": false
   },
   "outputs": [],
   "source": [
    "# Let's add a new column\n",
    "#print(raw_data_df.columns)\n",
    "a = raw_data_df['Seedingdate']\n",
    "a = [e + '-2012' for e in a]\n",
    "from datetime import datetime\n",
    "t1 = datetime.strptime(a[0], '%d-%b-%Y')\n",
    "\n",
    "b = raw_data_df['harvestdate'].iloc[:,0]\n",
    "b = [e + '-2012' for e in b]\n",
    "import time\n",
    "t2 = datetime.strptime(b[0], '%d-%b-%Y')\n",
    "\n",
    "days = (t2 - t1).days\n",
    "\n",
    "# Add this column to data\n",
    "raw_data_df['growingperiod_days'] = days"
   ]
  },
  {
   "cell_type": "markdown",
   "metadata": {},
   "source": [
    "### Update this data in DocDB"
   ]
  },
  {
   "cell_type": "code",
   "execution_count": null,
   "metadata": {
    "collapsed": false
   },
   "outputs": [],
   "source": [
    "# make a client connection\n",
    "client = document_client.DocumentClient(DOCUMENTDB_HOST, {'masterKey': DOCUMENTDB_KEY})\n",
    "\n",
    "# Read databases and get our working database\n",
    "db = next((data for data in client.ReadDatabases() if data['id'] == DOCDB_DATABASE))\n",
    "\n",
    "# Read collections and get the \"master collection\"\n",
    "coll_master = next((coll for coll in client.ReadCollections(db['_self']) if coll['id'] == DOCDB_COLLECTION_MASTER))\n",
    "\n",
    "# Convert data values in df to json list of lists\n",
    "values = raw_data_df.to_json(orient = 'values')\n",
    "\n",
    "# Define a document definition\n",
    "document_definition = { 'id': DOCDB_MASTER_DOC,\n",
    "                       'timestamp': datetime.now().strftime('%c'),\n",
    "                        'data': values,\n",
    "                        'data_headers': pd.Series(raw_data_df.columns).to_json(orient = 'values')}\n",
    "\n",
    "# Update the document in DocDB!\n",
    "doc_updated = client.UpsertDocument(coll_master['_self'], document_definition)"
   ]
  },
  {
   "cell_type": "markdown",
   "metadata": {
    "collapsed": true
   },
   "source": [
    "### Publish back to a google spreadsheet"
   ]
  },
  {
   "cell_type": "code",
   "execution_count": null,
   "metadata": {
    "collapsed": false
   },
   "outputs": [],
   "source": [
    "# Some functions for updating (and concurrently) publishing a google spreadsheet doc\n",
    "def numberToLetters(q):\n",
    "    '''This converts a number,q,  into proper column name format for spreadsheet (e.g. R1C28 -> AB1).'''\n",
    "    q = q - 1\n",
    "    result = ''\n",
    "    while q >= 0:\n",
    "        remain = q % 26\n",
    "        result = chr(remain+65) + result;\n",
    "        q = q//26 - 1\n",
    "    return result\n",
    "\n",
    "def update_worksheet(wksheet, df):\n",
    "    '''This function updates a given worksheet (wksheet)\n",
    "    with the values in the dataframe (df).'''\n",
    "\n",
    "    # TODO: confirm there are enough columns in existing doc to match query\n",
    "\n",
    "    columns = df.columns.values.tolist()\n",
    "    # selection of the range that will be updated\n",
    "    cell_list = wksheet.range('A1:'+numberToLetters(len(columns))+'1')\n",
    "\n",
    "    # modifying the values in the range\n",
    "    for cell in cell_list:\n",
    "        val = columns[cell.col-1]\n",
    "        if type(val) is str:\n",
    "            val = val.decode('utf-8')\n",
    "        cell.value = val\n",
    "    # update in batch\n",
    "    wksheet.update_cells(cell_list)\n",
    "\n",
    "    #number of lines and columns\n",
    "    num_lines, num_columns = df.shape\n",
    "    # selection of the range that will be updated\n",
    "    cell_list = wksheet.range('A2:'+numberToLetters(num_columns)+str(num_lines+1))\n",
    "    # modifying the values in the range\n",
    "    for cell in cell_list:\n",
    "        val = df.iloc[cell.row-2,cell.col-1]\n",
    "        if type(val) is str:\n",
    "            val = val.decode('utf-8')\n",
    "        elif isinstance(val, (int, long, float, complex)):\n",
    "            # note that we round all numbers\n",
    "            val = int(round(val))\n",
    "        cell.value = val\n",
    "    # update in batch\n",
    "    wksheet.update_cells(cell_list)\n",
    "\n",
    "# Specify my DocumentDB settings\n",
    "DOCUMENTDB_HOST = 'https://testingflask.documents.azure.com:443/'\n",
    "DOCUMENTDB_KEY = 's610r3ylWxHNW87xKJYOmIzPWW/bHJNM7r4JCZ4PmSyJ2gUIEnasqH5wO9qkCY2LFkPV8kMulRa/U8+Ws9csoA=='\n",
    "DOCDB_DATABASE = 'mladsapp'\n",
    "DOCDB_COLLECTION_MASTER = 'master_collection'\n",
    "DOCDB_MASTER_DOC = 'masterdoc'\n",
    "\n",
    "# Again, specify my google drive api credentials\n",
    "json_key = json.load(open('MessyDoc-8f814e3f2a78.json'))\n",
    "scope = ['https://spreadsheets.google.com/feeds']\n",
    "credentials = SignedJwtAssertionCredentials(json_key['client_email'], json_key['private_key'].encode(), scope)\n",
    "\n",
    "# Using gspread module and my credentials, grab the google doc I want\n",
    "gc = gspread.authorize(credentials)\n",
    "wksheet = gc.open(\"SSF_Crop_Master_2012_Master_crop_master\").worksheet('latest')\n",
    "\n",
    "# make a client connection\n",
    "client = document_client.DocumentClient(DOCUMENTDB_HOST, {'masterKey': DOCUMENTDB_KEY})\n",
    "\n",
    "# Read databases and get our working database\n",
    "db = next((data for data in client.ReadDatabases() if data['id'] == DOCDB_DATABASE))\n",
    "\n",
    "# Read collections and get the \"user collection\"\n",
    "coll_master = next((coll for coll in client.ReadCollections(db['_self']) if coll['id'] == DOCDB_COLLECTION_MASTER))\n",
    "\n",
    "# Get master doc from DocDB and place into dataframe\n",
    "master_doc = next((doc for doc in client.ReadDocuments(coll_master['_self']) if doc['id'] == DOCDB_MASTER_DOC))\n",
    "master_data_df = read_json(master_doc['data'])\n",
    "headers = read_json(master_doc['data_headers'])\n",
    "master_data_df.columns = headers\n",
    "\n",
    "# update all cells in master google doc with data in master doc from db\n",
    "# this takes a minute or two (maybe put into a separate view function)\n",
    "update_worksheet(wksheet, master_data_df)"
   ]
  },
  {
   "cell_type": "code",
   "execution_count": null,
   "metadata": {
    "collapsed": true
   },
   "outputs": [],
   "source": []
  }
 ],
 "metadata": {
  "kernelspec": {
   "display_name": "Python 2",
   "language": "python",
   "name": "python2"
  },
  "language_info": {
   "codemirror_mode": {
    "name": "ipython",
    "version": 2
   },
   "file_extension": ".py",
   "mimetype": "text/x-python",
   "name": "python",
   "nbconvert_exporter": "python",
   "pygments_lexer": "ipython2",
   "version": "2.7.11"
  }
 },
 "nbformat": 4,
 "nbformat_minor": 0
}
