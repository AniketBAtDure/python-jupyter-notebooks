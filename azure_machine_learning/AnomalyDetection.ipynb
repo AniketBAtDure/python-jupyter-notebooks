{
 "cells": [
  {
   "cell_type": "markdown",
   "metadata": {},
   "source": [
    "## Anomaly Detection with Azure Machine Learning APIs\n",
    "\n",
    "When is it good to have an anomaly detection service?  Perhaps to watch out for:\n",
    "\n",
    "* Too many login failures\n",
    "* Spikes or dips in customer checkouts\n",
    "* An increase in the dynamic range of file ingestion speeds in a cloud service\n",
    "* An upward trend in system temperature\n",
    "\n",
    "These are cases found from monitoring a system where a closer look may be called for.  They are indicative of abnormal or anomalous behavior and could indicate a problem.  The data could be streaming from a device or come from log files, but no matter the source an anomaly detection model could help predict when a system needs to be examined further."
   ]
  },
  {
   "cell_type": "markdown",
   "metadata": {},
   "source": [
    "#### For python 2 and 3 compatibility we have a few imports"
   ]
  },
  {
   "cell_type": "code",
   "execution_count": null,
   "metadata": {
    "collapsed": true
   },
   "outputs": [],
   "source": [
    "import json\n",
    "\n",
    "# Import compatibility libraries (python 2/3 support)\n",
    "from __future__ import absolute_import\n",
    "from __future__ import division\n",
    "from __future__ import print_function\n",
    "from __future__ import unicode_literals\n",
    "\n",
    "# Python 3\n",
    "try:\n",
    "    from urllib.request import urlopen, Request\n",
    "    from urllib.parse import urlparse, urlencode\n",
    "    from http.client import HTTPSConnection\n",
    "# Python 2.7\n",
    "except ImportError:\n",
    "    from urlparse import urlparse\n",
    "    from urllib import urlencode\n",
    "    from urllib2 import Request, urlopen\n",
    "    from httplib import HTTPSConnection "
   ]
  },
  {
   "cell_type": "markdown",
   "metadata": {},
   "source": [
    "**Data**\n",
    "\n",
    "This is non-seasonal time series data."
   ]
  },
  {
   "cell_type": "code",
   "execution_count": null,
   "metadata": {
    "collapsed": false
   },
   "outputs": [],
   "source": [
    "body = json.loads('''\n",
    "{\n",
    "  \"data\": [\n",
    "    [ \"9/21/2014 11:05:00 AM\", \"1.3\" ],\n",
    "    [ \"9/21/2014 11:10:00 AM\", \"9.09\" ],\n",
    "    [ \"9/21/2014 11:15:00 AM\", \"2.4\" ],\n",
    "    [ \"9/21/2014 11:20:00 AM\", \"2.5\" ],\n",
    "    [ \"9/21/2014 11:25:00 AM\", \"2.6\" ],\n",
    "    [ \"9/21/2014 11:30:00 AM\", \"2.1\" ],\n",
    "    [ \"9/21/2014 11:35:00 AM\", \"3.5\" ],\n",
    "    [ \"9/21/2014 11:40:00 AM\", \"0\" ],\n",
    "    [ \"9/21/2014 11:45:00 AM\", \"2.8\" ],\n",
    "    [ \"9/21/2014 11:50:00 AM\", \"2.3\" ]\n",
    "  ],\n",
    "  \"params\": {\n",
    "    \"tspikedetector.sensitivity\": \"4\",\n",
    "    \"zspikedetector.sensitivity\": \"4\",\n",
    "    \"trenddetector.sensitivity\": \"3.25\",\n",
    "    \"bileveldetector.sensitivity\": \"3.25\",\n",
    "    \"postprocess.tailRows\": \"0\"\n",
    "  }\n",
    "}\n",
    "''')\n",
    "\n",
    "print(body)"
   ]
  },
  {
   "cell_type": "markdown",
   "metadata": {},
   "source": [
    "**The headers and parameters**\n",
    "\n",
    "The subscription key for Microsoft Azure DataMarket was placed in `config.json`.  The key can be found by going to your account in the [Azure DataMarket](https://datamarket.azure.com/account/keys) (you may need to register)."
   ]
  },
  {
   "cell_type": "code",
   "execution_count": null,
   "metadata": {
    "collapsed": false
   },
   "outputs": [],
   "source": [
    "f = urlopen('https://gist.githubusercontent.com/antriv/a6962d2c7580a0f7db4b7aabd6d768c5/raw/38a66f77c7fd0641324c8cbbff77828207041edc/config.json')\n",
    "url = f.read()\n",
    "CONFIG = json.loads(url)\n",
    "\n",
    "subscription_key = CONFIG['subscription_key_ADM']\n",
    "\n",
    "import base64\n",
    "creds = base64.b64encode('userid:' + subscription_key)\n",
    "\n",
    "headers = {'Content-Type':'application/json', 'Authorization':('Basic '+ creds)} \n",
    "\n",
    "# params will be added to POST in url request\n",
    "# right now it's empty because for this request we don't need any params\n",
    "# although we could have included 'selection' and 'offset' - see docs\n",
    "params = urlencode({})"
   ]
  },
  {
   "cell_type": "markdown",
   "metadata": {},
   "source": [
    "**Make the request using the REST API**\n",
    "\n",
    "Note, we are using non-seasonal time series mock data."
   ]
  },
  {
   "cell_type": "code",
   "execution_count": null,
   "metadata": {
    "collapsed": false
   },
   "outputs": [],
   "source": [
    "try:\n",
    "    \n",
    "    # Post method request - note:  body of request is converted from json to string\n",
    "\n",
    "    conn = HTTPSConnection('api.datamarket.azure.com')\n",
    "    \n",
    "    conn.request(\"POST\", \"/data.ashx/aml_labs/anomalydetection/v2/Score/\", \n",
    "                 body = json.dumps(body), headers = headers)\n",
    "    \n",
    "    response = conn.getresponse()\n",
    "    data = response.read()\n",
    "    conn.close()\n",
    "except Exception as e:\n",
    "    print(\"[Error: {0}] \".format(e))\n",
    "    \n",
    "try:\n",
    "    # Print the results - json response format\n",
    "    print(json.dumps(json.loads(json.loads(data)['ADOutput']), \n",
    "               sort_keys=True,\n",
    "               indent=4, \n",
    "               separators=(',', ': ')))\n",
    "except Exception as e:\n",
    "    print(data)"
   ]
  },
  {
   "cell_type": "markdown",
   "metadata": {
    "collapsed": true
   },
   "source": [
    "Output column meaning from [docs](https://azure.microsoft.com/en-us/documentation/articles/machine-learning-apps-anomaly-detection/):\n",
    "* Time (input)\n",
    "* Data (input)\n",
    "* TSpike: Binary indicator to indicate whether a spike is detected by TSpike Detector (1 = spike)\n",
    "* ZSpike: Binary indicator to indicate whether a spike is detected by ZSpike Detector (1 = spike)\n",
    "* RPScore: A floating number representing anomaly score on bidirectional level change\n",
    "* RPAlert: 1/0 value indicating there is an bi directional level change anomaly based on the input sensitivity\n",
    "* TScore: A floating number representing anomaly score on positive trend\n",
    "* TAlert: 1/0 value indicating there is a positive trend anomaly based on the input sensitivity"
   ]
  },
  {
   "cell_type": "code",
   "execution_count": null,
   "metadata": {
    "collapsed": true
   },
   "outputs": [],
   "source": []
  }
 ],
 "metadata": {
  "anaconda-cloud": {},
  "kernelspec": {
   "display_name": "Python 2",
   "language": "python",
   "name": "python2"
  },
  "language_info": {
   "codemirror_mode": {
    "name": "ipython",
    "version": 2
   },
   "file_extension": ".py",
   "mimetype": "text/x-python",
   "name": "python",
   "nbconvert_exporter": "python",
   "pygments_lexer": "ipython2",
   "version": "2.7.11"
  }
 },
 "nbformat": 4,
 "nbformat_minor": 0
}
