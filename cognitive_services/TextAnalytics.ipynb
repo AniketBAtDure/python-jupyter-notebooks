{
 "cells": [
  {
   "cell_type": "markdown",
   "metadata": {},
   "source": [
    "## Key phrase detection with Microsoft Cognitive Services Text Analytics API\n",
    "\n",
    "The API returns a list of strings denoting the key talking points in the input text. We employ techniques from Microsoft Office's sophisticated Natural Language Processing toolkit. Currently, the following languages are supported: English, German, Spanish and Japanese."
   ]
  },
  {
   "cell_type": "markdown",
   "metadata": {
    "collapsed": true
   },
   "source": [
    "#### For python 2 and 3 compatibility we have a few imports"
   ]
  },
  {
   "cell_type": "code",
   "execution_count": 1,
   "metadata": {
    "collapsed": false
   },
   "outputs": [],
   "source": [
    "import json\n",
    "\n",
    "# Import compatibility libraries (python 2/3 support)\n",
    "from __future__ import absolute_import\n",
    "from __future__ import division\n",
    "from __future__ import print_function\n",
    "from __future__ import unicode_literals\n",
    "\n",
    "# Python 3\n",
    "try:\n",
    "    from urllib.request import urlopen, Request\n",
    "    from urllib.parse import urlparse, urlencode\n",
    "    from http.client import HTTPSConnection\n",
    "# Python 2.7\n",
    "except ImportError:\n",
    "    from urlparse import urlparse\n",
    "    from urllib import urlencode\n",
    "    from urllib2 import Request, urlopen\n",
    "    from httplib import HTTPSConnection "
   ]
  },
  {
   "cell_type": "markdown",
   "metadata": {},
   "source": [
    "**Load our configuration file (just has subscription key as of now)**"
   ]
  },
  {
   "cell_type": "code",
   "execution_count": 2,
   "metadata": {
    "collapsed": true
   },
   "outputs": [],
   "source": [
    "response = urlopen('https://gist.githubusercontent.com/antriv/a6962d2c7580a0f7db4b7aabd6d768c5/raw/66d2f4219a566e2af995f6ce160e48851bf7811e/config.json')\n",
    "data = response.read().decode(\"utf-8\")\n",
    "CONFIG = json.loads(data)\n",
    "subscription_key = CONFIG['subscription_key_text_analytics']"
   ]
  },
  {
   "cell_type": "markdown",
   "metadata": {},
   "source": [
    "**Set up the header and parameter part of request**"
   ]
  },
  {
   "cell_type": "code",
   "execution_count": 3,
   "metadata": {
    "collapsed": true
   },
   "outputs": [],
   "source": [
    "# grab key from json in config\n",
    "subscription_key = CONFIG['subscription_key_text_analytics']\n",
    "\n",
    "# http headers needed for POST request\n",
    "# we keep these as dict\n",
    "headers = {\n",
    "    # Request headers\n",
    "    'Content-Type': 'application/json',\n",
    "    'Ocp-Apim-Subscription-Key': subscription_key,\n",
    "}\n",
    "\n",
    "# params will be added to POST in url request\n",
    "# right now it's empty because for this request we don't need any params\n",
    "params = urlencode({})"
   ]
  },
  {
   "cell_type": "markdown",
   "metadata": {},
   "source": [
    "**Here is our text for analysis in a Text Analytics-friendly format**\n",
    "* Note, you can have multipe chunks of text for separate analyses"
   ]
  },
  {
   "cell_type": "code",
   "execution_count": 11,
   "metadata": {
    "collapsed": false
   },
   "outputs": [],
   "source": [
    "# The request body - contains our corpus for analysis (load into json format)\n",
    "body = json.loads('''{\n",
    "  \"documents\": [\n",
    "    {\n",
    "      \"id\": \"1\",\n",
    "      \"text\": \"I have been a happy man ever since January 1, 1990, when I no longer had an email address. I'd used email since about 1975, and it seems to me that 15 years of email is plenty for one lifetime.  Email is a wonderful thing for people whose role in life is to be on top of things. But not for me; my role is to be on the bottom of things. What I do takes long hours of studying and uninterruptible concentration. I try to learn certain areas of computer science exhaustively; then I try to digest that knowledge into a form that is accessible to people who don't have time for such study.  On the other hand, I need to communicate with thousands of people all over the world as I write my books. I also want to be responsive to the people who read those books and have questions or comments. \" },\n",
    "    {\n",
    "      \"id\": \"2\",\n",
    "      \"text\": \"Sure, I'm always ready to buy more electronics\"\n",
    "    },\n",
    "        {\n",
    "      \"id\": \"3\",\n",
    "      \"text\": \"[I'm a happy camper or feel free to change what is written here]\"\n",
    "    }\n",
    "  ]\n",
    "}''')"
   ]
  },
  {
   "cell_type": "markdown",
   "metadata": {},
   "source": [
    "**Make the API request call**"
   ]
  },
  {
   "cell_type": "code",
   "execution_count": 12,
   "metadata": {
    "collapsed": false
   },
   "outputs": [
    {
     "name": "stdout",
     "output_type": "stream",
     "text": [
      "{\"documents\":[{\"score\":0.9816817,\"id\":\"1\"},{\"score\":0.8170025,\"id\":\"2\"},{\"score\":0.8936079,\"id\":\"3\"}],\"errors\":[]}\n"
     ]
    }
   ],
   "source": [
    "try:\n",
    "    conn = HTTPSConnection('westus.api.cognitive.microsoft.com')\n",
    "    # https://westus.api.cognitive.microsoft.com/text/analytics/v2.0/sentiment\n",
    "    # Post method request - note:  body of request is converted from json to string\n",
    "    conn.request(\"POST\", \"/text/analytics/v2.0/sentiment?%s\" % params, body = json.dumps(body), headers = headers)\n",
    "    response = conn.getresponse()\n",
    "    data = response.read()\n",
    "    print(data)\n",
    "    conn.close()\n",
    "except Exception as e:\n",
    "    print(\"[Error: {0}] \".format(e))"
   ]
  },
  {
   "cell_type": "code",
   "execution_count": null,
   "metadata": {
    "collapsed": true
   },
   "outputs": [],
   "source": []
  }
 ],
 "metadata": {
  "anaconda-cloud": {},
  "kernelspec": {
   "display_name": "Python 2",
   "language": "python",
   "name": "python2"
  },
  "language_info": {
   "codemirror_mode": {
    "name": "ipython",
    "version": 2
   },
   "file_extension": ".py",
   "mimetype": "text/x-python",
   "name": "python",
   "nbconvert_exporter": "python",
   "pygments_lexer": "ipython2",
   "version": "2.7.11"
  }
 },
 "nbformat": 4,
 "nbformat_minor": 0
}
