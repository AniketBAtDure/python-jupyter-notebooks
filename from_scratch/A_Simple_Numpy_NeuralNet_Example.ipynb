{
 "cells": [
  {
   "cell_type": "markdown",
   "metadata": {},
   "source": [
    "# Implementing a Simple Neural Network with Numpy\n",
    "\n",
    "Based on CS231n notes [here](http://cs231n.github.io/neural-networks-case-study/)"
   ]
  },
  {
   "cell_type": "code",
   "execution_count": 1,
   "metadata": {},
   "outputs": [
    {
     "data": {
      "text/plain": [
       "'3.5.2 |Anaconda 4.1.1 (64-bit)| (default, Jul  5 2016, 11:41:13) [MSC v.1900 64 bit (AMD64)]'"
      ]
     },
     "execution_count": 1,
     "metadata": {},
     "output_type": "execute_result"
    }
   ],
   "source": [
    "import sys\n",
    "sys.version"
   ]
  },
  {
   "cell_type": "code",
   "execution_count": 2,
   "metadata": {},
   "outputs": [],
   "source": [
    "import numpy as np\n",
    "import matplotlib.pyplot as plt\n",
    "from sklearn.datasets.samples_generator import make_blobs\n",
    "\n",
    "%matplotlib inline"
   ]
  },
  {
   "cell_type": "code",
   "execution_count": 3,
   "metadata": {},
   "outputs": [],
   "source": [
    "debug = False\n",
    "\n",
    "### Hyperparameters ###\n",
    "\n",
    "# N is number of samples\n",
    "# D_in in input dimension\n",
    "# D_h is hidden dimension\n",
    "# D_out is output dimension\n",
    "\n",
    "# start out small\n",
    "N, D_in, D_hid, D_out = 50, 2, 10, 2\n",
    "learning_rate = 1e-2\n",
    "\n",
    "### Data ###\n",
    "X, y = make_blobs(n_samples=N, centers=2, n_features=D_in,\n",
    "                  random_state=0)\n",
    "\n",
    "### Weights ###\n",
    "w1 = np.random.randn(D_in, D_hid)\n",
    "w2 = np.random.randn(D_hid, D_out)\n",
    "\n",
    "if debug:\n",
    "    print('X: ', X)\n",
    "    print('y: ', y)\n",
    "    print('w1: ', w1)\n",
    "    print('w2: ', w2)\n",
    "\n",
    "# Vector to which loss over training is saved\n",
    "loss_vec = []\n",
    "\n",
    "# Epochs\n",
    "epochs = 100"
   ]
  },
  {
   "cell_type": "code",
   "execution_count": 4,
   "metadata": {},
   "outputs": [
    {
     "data": {
      "image/png": "[encoded data removed]",
      "text/plain": [
       "<matplotlib.figure.Figure at 0x1ecb51f2f28>"
      ]
     },
     "metadata": {},
     "output_type": "display_data"
    }
   ],
   "source": [
    "### Visualize data ###\n",
    "plt.scatter(X[:, 0], X[:, 1], c=y, s=80, cmap=plt.cm.Spectral)\n",
    "plt.show()"
   ]
  },
  {
   "cell_type": "code",
   "execution_count": 5,
   "metadata": {
    "scrolled": true
   },
   "outputs": [],
   "source": [
    "### Train neural net ###\n",
    "for t in range(epochs):\n",
    "    ### Forward pass ###\n",
    "    h = X.dot(w1)\n",
    "    # Apply an activation function (ReLU) to the output of first layer\n",
    "    h_relu = np.maximum(0, h)\n",
    "    # Predict with these weights\n",
    "    y_pred = np.array([np.argmax(x) for x in h_relu.dot(w2)]).reshape(-1, 1)\n",
    "    \n",
    "    ### Loss ###\n",
    "    # - calculates the error in the network, Meas Square Error, here (or MSE)\n",
    "    # - different loss functions are used for different tasks\n",
    "    # - in general, this process is done until the loss has reached a minima\n",
    "    \n",
    "    scores = np.dot(h_relu, w2)\n",
    "    # compute the class probabilities\n",
    "    exp_scores = np.exp(scores)\n",
    "    probs = exp_scores / np.sum(exp_scores, axis=1, keepdims=True) # [N x K]\n",
    "    # compute the loss: average cross-entropy loss and regularization\n",
    "    corect_logprobs = -np.log(probs[range(N), y])\n",
    "    loss = np.sum(corect_logprobs)/N\n",
    "    \n",
    "    # compute the gradient on scores\n",
    "    dscores = probs\n",
    "    dscores[range(N), y] -= 1\n",
    "    dscores /= N\n",
    "    \n",
    "    ### Backpropagation  ###\n",
    "    # - gradients of w1 and w2 with respect to loss\n",
    "    # - typically a gradient is the partial derivative of\n",
    "    #   the loss function with respect to the weights\n",
    "    # - normally an optimization function is used to calculate the graidents\n",
    "    \n",
    "    # backpropate the gradient to the parameters\n",
    "    # first backprop into parameters W2 and b2\n",
    "    dw2 = np.dot(h_relu.T, dscores)\n",
    "    # next backprop into hidden layer\n",
    "    dhidden = np.dot(dscores, w2.T)\n",
    "    # backprop the ReLU non-linearity\n",
    "    dhidden[h_relu <= 0] = 0\n",
    "    # finally into w\n",
    "    dw = np.dot(X.T, dhidden)\n",
    "    \n",
    "    ### Updates to weights ###\n",
    "    # - typically weigts are modified according to an optimization function\n",
    "    # - the gradient gives the direction and, the learning rate, equates to\n",
    "    #   the size of the step\n",
    "    # - weights are modified in the opposite direction of the gradient\n",
    "    w1 -= learning_rate * dw\n",
    "    w2 -= learning_rate * dw2\n",
    "    \n",
    "    if debug:\n",
    "        print('Forward pass:', h)\n",
    "        print('Activation function:', h_relu)\n",
    "        print('Current prediction:', y_pred)\n",
    "        print('Loss:', t, loss)\n",
    "        print('New weights 1: ', w1, '\\n', 'New weights 2: ', w2)\n",
    "        \n",
    "    loss_vec.append(loss)"
   ]
  },
  {
   "cell_type": "code",
   "execution_count": 6,
   "metadata": {},
   "outputs": [
    {
     "data": {
      "text/plain": [
       "[<matplotlib.lines.Line2D at 0x1ecb52127f0>]"
      ]
     },
     "execution_count": 6,
     "metadata": {},
     "output_type": "execute_result"
    },
    {
     "data": {
      "image/png": "[encoded data removed]",
      "text/plain": [
       "<matplotlib.figure.Figure at 0x1ecb5225eb8>"
      ]
     },
     "metadata": {},
     "output_type": "display_data"
    }
   ],
   "source": [
    "plt.plot(range(epochs), loss_vec, 'go--', linewidth=2, markersize=5)"
   ]
  },
  {
   "cell_type": "markdown",
   "metadata": {},
   "source": [
    "## Further Reading\n",
    "\n",
    "1. Nice article on loss functions and optimization/optimizers [Ref](https://medium.com/data-science-group-iitr/loss-functions-and-optimization-algorithms-demystified-bb92daff331c)"
   ]
  },
  {
   "cell_type": "code",
   "execution_count": null,
   "metadata": {},
   "outputs": [],
   "source": []
  }
 ],
 "metadata": {
  "anaconda-cloud": {},
  "kernelspec": {
   "display_name": "Python [Root]",
   "language": "python",
   "name": "Python [Root]"
  },
  "language_info": {
   "codemirror_mode": {
    "name": "ipython",
    "version": 3
   },
   "file_extension": ".py",
   "mimetype": "text/x-python",
   "name": "python",
   "nbconvert_exporter": "python",
   "pygments_lexer": "ipython3",
   "version": "3.5.2"
  },
  "toc": {
   "nav_menu": {},
   "number_sections": true,
   "sideBar": true,
   "skip_h1_title": false,
   "toc_cell": true,
   "toc_position": {},
   "toc_section_display": "block",
   "toc_window_display": false
  }
 },
 "nbformat": 4,
 "nbformat_minor": 1
}
