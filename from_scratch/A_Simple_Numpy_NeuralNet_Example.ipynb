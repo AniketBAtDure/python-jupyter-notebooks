{
 "cells": [
  {
   "cell_type": "markdown",
   "metadata": {},
   "source": [
    "# Implementing a Simple Neural Network with Numpy\n",
    "\n",
    "Based on Justin Johnson's notes [here](https://github.com/jcjohnson/pytorch-examples)"
   ]
  },
  {
   "cell_type": "code",
   "execution_count": 1,
   "metadata": {},
   "outputs": [
    {
     "data": {
      "text/plain": [
       "'3.5.2 |Anaconda 4.1.1 (64-bit)| (default, Jul  5 2016, 11:41:13) [MSC v.1900 64 bit (AMD64)]'"
      ]
     },
     "execution_count": 1,
     "metadata": {},
     "output_type": "execute_result"
    }
   ],
   "source": [
    "import sys\n",
    "sys.version"
   ]
  },
  {
   "cell_type": "code",
   "execution_count": 2,
   "metadata": {},
   "outputs": [],
   "source": [
    "import numpy as np\n",
    "import matplotlib.pyplot as plt\n",
    "%matplotlib inline"
   ]
  },
  {
   "cell_type": "code",
   "execution_count": 3,
   "metadata": {
    "scrolled": true
   },
   "outputs": [],
   "source": [
    "### Hyperparameters ###\n",
    "\n",
    "# N is batch size\n",
    "# D_in in input dimension\n",
    "# D_h is hidden dimension\n",
    "# D_out is output dimension\n",
    "\n",
    "# start out small\n",
    "N, D_in, D_hid, D_out = 4, 16, 10, 2\n",
    "learning_rate = 1e-6\n",
    "\n",
    "### Data ###\n",
    "# N x D_in matrix - for input\n",
    "X = np.random.randn(N, D_in)\n",
    "# N x D_out matrix - as output labels\n",
    "y = np.random.randn(N, D_out)\n",
    "\n",
    "### Weights ###\n",
    "w1 = np.random.randn(D_in, D_hid)\n",
    "w2 = np.random.randn(D_hid, D_out)\n",
    "\n",
    "# Vector to which loss over training is saved\n",
    "loss_vec = []\n",
    "\n",
    "# Epochs\n",
    "epochs = 10\n",
    "\n",
    "debug = False\n",
    "\n",
    "### Train neural net ###\n",
    "for t in range(epochs):\n",
    "    ### Forward pass ###\n",
    "    h = X.dot(w1)\n",
    "    # Apply an activation function (ReLU) to the weights x input\n",
    "    h_relu = np.maximum(h, 0)\n",
    "    # Predict with these weights\n",
    "    y_pred = h_relu.dot(w2)\n",
    "    \n",
    "    ### Loss ###\n",
    "    # -calculates the error in the network, Meas Square Error, here (or MSE)\n",
    "    # - different loss functions used for different tasks\n",
    "    # - this process is done until the loss has reached a minima\n",
    "    loss = np.square(y_pred - y).sum()\n",
    "    \n",
    "    ### Backpropagation  ###\n",
    "    # - gradients of w1 and w2 with respect to loss\n",
    "    # - typically a gradient is the partial derivative of\n",
    "    #   the loss function with respect to the weights\n",
    "    # - typically and optimization function is what calculates the graidents,\n",
    "    #   but here we simply calculate\n",
    "    # Partial derivative calculation (derivative of loss)\n",
    "    grad_y_pred = 2.0 * (y_pred - y)\n",
    "    # Gradient from output to application of ReLU\n",
    "    grad_w2 = h_relu.T.dot(grad_y_pred)\n",
    "    # Gradient from predition to hidden\n",
    "    grad_h_relu = grad_y_pred.dot(w2.T)\n",
    "    # Apply similar transformation as ReLU\n",
    "    grad_h = grad_h_relu.copy()\n",
    "    grad_h[grad_h < 0] = 0\n",
    "    # Gradient from hidden to input\n",
    "    grad_w1 = X.T.dot(grad_h)\n",
    "    \n",
    "    ### Updates to weights ###\n",
    "    # - typically weigts are modified according to an optimization function\n",
    "    # - the gradient gives the direction and the learning rate, \n",
    "    #   the size of the step\n",
    "    # - weights are modified in the opposite direction of the gradient\n",
    "    w1 -= learning_rate * grad_w1\n",
    "    w2 -= learning_rate * grad_w2\n",
    "    \n",
    "    if debug:\n",
    "        print('Forward pass:', h)\n",
    "        print('Activation function:', h_relu)\n",
    "        print('Current prediction:', y_pred)\n",
    "        print('Loss:', t, loss)\n",
    "        print('Grad y pred', grad_y_pred)\n",
    "        print('Grad w2', grad_w2)\n",
    "        print('Grad w1', grad_w1)\n",
    "        print('New weights 1: ', w1, '\\n', 'New weights 2: ', w2)\n",
    "        \n",
    "    loss_vec.append(loss)"
   ]
  },
  {
   "cell_type": "code",
   "execution_count": 4,
   "metadata": {},
   "outputs": [
    {
     "data": {
      "text/plain": [
       "[<matplotlib.lines.Line2D at 0x2306e3867b8>]"
      ]
     },
     "execution_count": 4,
     "metadata": {},
     "output_type": "execute_result"
    },
    {
     "data": {
      "image/png": "[encoded data removed]",
      "text/plain": [
       "<matplotlib.figure.Figure at 0x2306c32f240>"
      ]
     },
     "metadata": {},
     "output_type": "display_data"
    }
   ],
   "source": [
    "plt.plot(range(epochs), loss_vec, 'go--', linewidth=2, markersize=12)"
   ]
  },
  {
   "cell_type": "markdown",
   "metadata": {},
   "source": [
    "## Further Reading\n",
    "\n",
    "1. Nice article on loss functions and optimization/optimizers [Ref](https://medium.com/data-science-group-iitr/loss-functions-and-optimization-algorithms-demystified-bb92daff331c)"
   ]
  },
  {
   "cell_type": "code",
   "execution_count": null,
   "metadata": {},
   "outputs": [],
   "source": []
  }
 ],
 "metadata": {
  "anaconda-cloud": {},
  "kernelspec": {
   "display_name": "Python [Root]",
   "language": "python",
   "name": "Python [Root]"
  },
  "language_info": {
   "codemirror_mode": {
    "name": "ipython",
    "version": 3
   },
   "file_extension": ".py",
   "mimetype": "text/x-python",
   "name": "python",
   "nbconvert_exporter": "python",
   "pygments_lexer": "ipython3",
   "version": "3.5.2"
  },
  "toc": {
   "nav_menu": {},
   "number_sections": true,
   "sideBar": true,
   "skip_h1_title": false,
   "toc_cell": true,
   "toc_position": {},
   "toc_section_display": "block",
   "toc_window_display": false
  }
 },
 "nbformat": 4,
 "nbformat_minor": 1
}
