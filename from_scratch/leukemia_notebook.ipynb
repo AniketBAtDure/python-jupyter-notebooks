{
 "cells": [
  {
   "cell_type": "markdown",
   "metadata": {},
   "source": [
    "## Predictive analysis to determine diagnosis of acute lymphocytic leukemia (ALL) or acute myelogenous leukemia (AML) based on genetic markers"
   ]
  },
  {
   "cell_type": "markdown",
   "metadata": {},
   "source": [
    "### Get the data"
   ]
  },
  {
   "cell_type": "code",
   "execution_count": 1,
   "metadata": {
    "collapsed": true
   },
   "outputs": [],
   "source": [
    "from sklearn.datasets.mldata import fetch_mldata\n",
    "from sklearn.model_selection import train_test_split\n",
    "from sklearn.preprocessing import RobustScaler, Normalizer, StandardScaler\n",
    "from sklearn.decomposition import PCA\n",
    "import matplotlib.pyplot as plt\n",
    "from matplotlib.colors import ListedColormap\n",
    "import numpy as np\n",
    "import pandas as pd\n",
    "import tempfile\n",
    "%matplotlib inline"
   ]
  },
  {
   "cell_type": "code",
   "execution_count": 2,
   "metadata": {},
   "outputs": [],
   "source": [
    "# Fetch a small leukemia dataset from mldata.org\n",
    "#   http://mldata.org/repository/data/viewslug/leukemia-all-vs-aml/\n",
    "test_data_home = tempfile.mkdtemp()\n",
    "leuk = fetch_mldata('leukemia', transpose_data=True,\n",
    "                      data_home=test_data_home)\n",
    "\n",
    "# Assign a feature matrix (7129 genetic markers)\n",
    "#   and label list (ALL leukemia or AML leukemia)\n",
    "X = leuk.data\n",
    "y = leuk.target"
   ]
  },
  {
   "cell_type": "code",
   "execution_count": 3,
   "metadata": {
    "collapsed": true
   },
   "outputs": [],
   "source": [
    "# If have not done so, save data to file for offline reinitialization\n",
    "# pd.DataFrame(X).to_csv('leukemia_data.csv', index=False)\n",
    "# pd.DataFrame(y).to_csv('leukemia_targets.csv', index=False)"
   ]
  },
  {
   "cell_type": "code",
   "execution_count": 4,
   "metadata": {},
   "outputs": [
    {
     "data": {
      "text/plain": [
       "(72, 7129)"
      ]
     },
     "execution_count": 4,
     "metadata": {},
     "output_type": "execute_result"
    }
   ],
   "source": [
    "# # Then you may fetch data from files\n",
    "# X = pd.read_csv('leukemia_data.csv')\n",
    "# y = pd.read_csv('leukemia_targets.csv')\n",
    "\n",
    "# X = np.asarray(X)\n",
    "# y = np.asarray(y).flatten()\n",
    "X.shape"
   ]
  },
  {
   "cell_type": "code",
   "execution_count": 18,
   "metadata": {
    "collapsed": true
   },
   "outputs": [],
   "source": [
    "# Partition data in to test and training datasets\n",
    "X_train, X_test, y_train, y_test = train_test_split(\n",
    "    X, y, test_size=0.1, random_state=42)"
   ]
  },
  {
   "cell_type": "markdown",
   "metadata": {},
   "source": [
    "### Standardize and normalize the data"
   ]
  },
  {
   "cell_type": "code",
   "execution_count": 19,
   "metadata": {
    "collapsed": true
   },
   "outputs": [],
   "source": [
    "# Fit the scalar to the training dataset for \n",
    "#   zero mean and unit variance of features.\n",
    "#   Using a robust scaler which is more resistent to outliers.\n",
    "scaler = RobustScaler()\n",
    "scaler.fit(X_train)\n",
    "\n",
    "# Apply the transform\n",
    "X_train = scaler.transform(X_train)\n",
    "\n",
    "# Apply the same transform to the test dataset \n",
    "#   (simulating what happens when we get new data)\n",
    "X_test = scaler.transform(X_test)\n",
    "\n",
    "# Normalizing data as well to scale samples to unit norm\n",
    "normalizer = Normalizer().fit(X_train)\n",
    "X_train = normalizer.transform(X_train)\n",
    "X_test = normalizer.transform(X_test)"
   ]
  },
  {
   "cell_type": "markdown",
   "metadata": {},
   "source": [
    "### Feature reduction"
   ]
  },
  {
   "cell_type": "code",
   "execution_count": 20,
   "metadata": {},
   "outputs": [
    {
     "data": {
      "text/plain": [
       "array([ 0.12255893,  0.0798388 ,  0.05804933])"
      ]
     },
     "execution_count": 20,
     "metadata": {},
     "output_type": "execute_result"
    }
   ],
   "source": [
    "# Reduce to 3 dimensions\n",
    "pca = PCA(n_components=3, whiten=True)\n",
    "X_reduced = pca.fit_transform(X_train)\n",
    "scaler = StandardScaler()\n",
    "X_reduced = scaler.fit_transform(X_reduced)\n",
    "pca.explained_variance_"
   ]
  },
  {
   "cell_type": "markdown",
   "metadata": {},
   "source": [
    "### Adaline Neuron with Stochastic Gradient Descent (On-line)"
   ]
  },
  {
   "cell_type": "code",
   "execution_count": 21,
   "metadata": {},
   "outputs": [
    {
     "data": {
      "text/plain": [
       "array([ 0.34886352,  0.06732917,  0.44725611,  0.52736   ])"
      ]
     },
     "execution_count": 21,
     "metadata": {},
     "output_type": "execute_result"
    }
   ],
   "source": [
    "from adaline_sgd import AdalineSGD\n",
    "from adaline_batch import AdalineGD\n",
    "\n",
    "# Fit to Adaptive linear neuron single-layer network to 3d dataset\n",
    "ada = AdalineSGD(niter=20, eta=0.01, random_state=42)\n",
    "ada.fit(X_reduced, y_train)\n",
    "\n",
    "# Final weights\n",
    "ada.w_"
   ]
  },
  {
   "cell_type": "markdown",
   "metadata": {},
   "source": [
    "### Plots\n",
    "The hyperplane plot function is re-implemented from [this](http://scikit-learn.org/stable/auto_examples/svm/plot_separating_hyperplane.html) article."
   ]
  },
  {
   "cell_type": "code",
   "execution_count": 22,
   "metadata": {
    "collapsed": true
   },
   "outputs": [],
   "source": [
    "from matplotlib import cm\n",
    "\n",
    "def plot_hyperplane(clf, min_x, max_x, linestyle, label):\n",
    "    \"\"\"Plot a hyperplane, decision boundary\"\"\"\n",
    "    w = clf.w_\n",
    "    a = -w[1] / w[2]\n",
    "    xx = np.linspace(min_x - 5, max_x + 5)  # make sure the line is long enough\n",
    "    yy = a * xx - (w[0]) / w[2]\n",
    "    plt.plot(xx, yy, linestyle, label=label)\n",
    "    \n",
    "def plot_data_and_activation(X, y, classifier, resolution=0.2):\n",
    "    \n",
    "    # Marker generator and color map creation\n",
    "    markers = ('s', 'x', 'o', '^', 'v')\n",
    "    colors = ('red', 'blue', 'green', 'blue', 'grey')\n",
    "    cmap = ListedColormap(colors[:len(np.unique(y))])\n",
    "\n",
    "    # Reduce data dimensionality to 2d and weights to 2d\n",
    "    pca = PCA(n_components=2, whiten=True)\n",
    "    pca.fit(X)\n",
    "    X_2d = pca.transform(X)\n",
    "    \n",
    "    ada = AdalineSGD(niter=20, eta=0.01, random_state=42)\n",
    "    ada.fit(X_2d, y)\n",
    "    \n",
    "    # Weights from 2D reduction\n",
    "    w = ada.w_\n",
    "\n",
    "    x1_min, x1_max = X_2d[:, 0].min() - 1, X_2d[:, 0].max() + 1\n",
    "    x2_min, x2_max = X_2d[:, 1].min() - 1, X_2d[:, 1].max() + 1\n",
    "\n",
    "    xx1, xx2 = np.meshgrid(np.arange(x1_min, x1_max, resolution),\n",
    "                            np.arange(x2_min, x2_max, resolution))\n",
    "    \n",
    "    Z = (w[1] * xx1 + w[2] * xx2)\n",
    "    n_levels = len(xx1)\n",
    "    CS = plt.contourf(xx1, xx2, Z, n_levels,\n",
    "                      alpha=0.2,\n",
    "                      cmap=plt.cm.gnuplot2,\n",
    "                      origin='lower')\n",
    "\n",
    "    min_x = np.min(X[:, 0])\n",
    "    max_x = np.max(X[:, 0])\n",
    "    \n",
    "    plot_hyperplane(ada, min_x, max_x, 'k--',\n",
    "                'Boundary\\nfor classes')\n",
    "    cbar = plt.colorbar(CS)\n",
    "    cbar.ax.set_ylabel('output of activation function')\n",
    "\n",
    "    plt.xlim(xx1.min(), xx1.max())\n",
    "    plt.ylim(xx2.min(), xx2.max())\n",
    "\n",
    "    # Plot samples\n",
    "    for i, cl in enumerate(np.unique(y)):\n",
    "        plt.scatter(x=X_2d[y == cl, 0], y=X_2d[y == cl, 1],\n",
    "                   alpha=0.8, c=cmap(i),\n",
    "                   marker=markers[i], label=cl)"
   ]
  },
  {
   "cell_type": "code",
   "execution_count": 23,
   "metadata": {},
   "outputs": [
    {
     "data": {
      "text/plain": [
       "<matplotlib.legend.Legend at 0x114bb3ba8>"
      ]
     },
     "execution_count": 23,
     "metadata": {},
     "output_type": "execute_result"
    },
    {
     "data": {
      "image/png": "[encoded data removed]",
      "text/plain": [
       "<matplotlib.figure.Figure at 0x114e6c400>"
      ]
     },
     "metadata": {},
     "output_type": "display_data"
    }
   ],
   "source": [
    "plot_data_and_activation(X_reduced, y_train, classifier=ada)\n",
    "plt.title('Adaline - Stochastic Gradient Descent')\n",
    "plt.xlabel('Component 1')\n",
    "plt.ylabel('Component 2')\n",
    "plt.legend(loc='upper left')"
   ]
  },
  {
   "cell_type": "code",
   "execution_count": null,
   "metadata": {
    "collapsed": true
   },
   "outputs": [],
   "source": []
  }
 ],
 "metadata": {
  "kernelspec": {
   "display_name": "Python 3",
   "language": "python",
   "name": "python3"
  },
  "language_info": {
   "codemirror_mode": {
    "name": "ipython",
    "version": 3
   },
   "file_extension": ".py",
   "mimetype": "text/x-python",
   "name": "python",
   "nbconvert_exporter": "python",
   "pygments_lexer": "ipython3",
   "version": "3.5.3"
  },
  "nav_menu": {},
  "toc": {
   "navigate_menu": true,
   "number_sections": true,
   "sideBar": true,
   "threshold": 6,
   "toc_cell": false,
   "toc_section_display": "block",
   "toc_window_display": false
  }
 },
 "nbformat": 4,
 "nbformat_minor": 2
}
