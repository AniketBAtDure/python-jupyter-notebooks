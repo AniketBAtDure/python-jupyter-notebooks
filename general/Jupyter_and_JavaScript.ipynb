{
 "cells": [
  {
   "cell_type": "markdown",
   "metadata": {},
   "source": [
    "## The basic idea"
   ]
  },
  {
   "cell_type": "code",
   "execution_count": 4,
   "metadata": {
    "collapsed": false
   },
   "outputs": [
    {
     "data": {
      "text/html": [
       "<div id='textid'>100</div>"
      ],
      "text/plain": [
       "<IPython.core.display.HTML object>"
      ]
     },
     "execution_count": 4,
     "metadata": {},
     "output_type": "execute_result"
    }
   ],
   "source": [
    "# Here's a python cell!\n",
    "\n",
    "from IPython.display import HTML\n",
    "\n",
    "mypynumber = str(100)\n",
    "\n",
    "# Now we embed this number in the DOM by calling the HTML widget \n",
    "#   with a div element\n",
    "HTML(\"<div id='textid'>\" + mypynumber + \"</div>\")\n"
   ]
  },
  {
   "cell_type": "code",
   "execution_count": 5,
   "metadata": {
    "collapsed": false
   },
   "outputs": [
    {
     "data": {
      "application/javascript": [
       "\n",
       "// This is a javascript cell!\n",
       "\n",
       "// Let's get the number we made in python from the DOM\n",
       "var myjsnumber = Number(document.getElementById('textid').innerHTML);\n",
       "\n",
       "// Let's increment the number at hand\n",
       "myjsnumber+=1\n",
       "\n",
       "// Send this back as a python variable (this just executes python statements)\n",
       "IPython.notebook.kernel.execute('mypynumber=\"' + myjsnumber + '\";');"
      ],
      "text/plain": [
       "<IPython.core.display.Javascript object>"
      ]
     },
     "metadata": {},
     "output_type": "display_data"
    }
   ],
   "source": [
    "%%javascript\n",
    "\n",
    "// This is a javascript cell!\n",
    "\n",
    "// Let's get the number we made in python from the DOM\n",
    "var myjsnumber = Number(document.getElementById('textid').innerHTML);\n",
    "\n",
    "// Let's increment the number at hand\n",
    "myjsnumber+=1\n",
    "\n",
    "// Send this back as a python variable (this just executes python statements)\n",
    "IPython.notebook.kernel.execute('mypynumber=\"' + myjsnumber + '\";');"
   ]
  },
  {
   "cell_type": "code",
   "execution_count": 6,
   "metadata": {
    "collapsed": false
   },
   "outputs": [
    {
     "data": {
      "text/plain": [
       "'101'"
      ]
     },
     "execution_count": 6,
     "metadata": {},
     "output_type": "execute_result"
    }
   ],
   "source": [
    "# This is a python cell!\n",
    "\n",
    "# Has this been incremented?\n",
    "mypynumber"
   ]
  },
  {
   "cell_type": "markdown",
   "metadata": {},
   "source": [
    "### A Game"
   ]
  },
  {
   "cell_type": "code",
   "execution_count": 7,
   "metadata": {
    "collapsed": false
   },
   "outputs": [
    {
     "data": {
      "text/html": [
       "<div id='textid'>100</div>"
      ],
      "text/plain": [
       "<IPython.core.display.HTML object>"
      ]
     },
     "execution_count": 7,
     "metadata": {},
     "output_type": "execute_result"
    }
   ],
   "source": [
    "# Python\n",
    "from IPython.display import HTML\n",
    "\n",
    "HTML(\"<div id='textid'>\" + \"100\" + \"</div>\")"
   ]
  },
  {
   "cell_type": "code",
   "execution_count": 8,
   "metadata": {
    "collapsed": false
   },
   "outputs": [
    {
     "data": {
      "application/javascript": [
       "\n",
       "var startlife = document.getElementById('textid').innerHTML;\n",
       "\n",
       "\n",
       "// Let's play a game\n",
       "\n",
       "// Define a user class\n",
       "function User() {\n",
       "    this.name = '';\n",
       "    this.life = Number(startlife);\n",
       "//     this.life = Math.floor($('div.initiallife').text());\n",
       "    this.giveLife = function giveLife(targetPlayer) {\n",
       "        targetPlayer.life += 1;\n",
       "        this.life -= 1;\n",
       "    }\n",
       "}\n",
       "\n",
       "// Use class\n",
       "var Alfred = new User();\n",
       "var Wallace = new User();\n",
       "\n",
       "// Names were blank so give them name values\n",
       "\n",
       "Alfred.name = 'Alfred';\n",
       "Wallace.name = 'Wallace';\n",
       "\n",
       "// Let Alfred give life to Wallace\n",
       "Alfred.giveLife(Wallace);\n",
       "\n",
       "// Save these variables back to python variables to work with later\n",
       "IPython.notebook.kernel.execute('Alfredlife=\"' + Alfred.life + '\";');\n",
       "IPython.notebook.kernel.execute('Wallacelife=\"' + Wallace.life + '\";');"
      ],
      "text/plain": [
       "<IPython.core.display.Javascript object>"
      ]
     },
     "metadata": {},
     "output_type": "display_data"
    }
   ],
   "source": [
    "%%javascript\n",
    "\n",
    "var startlife = document.getElementById('textid').innerHTML;\n",
    "\n",
    "\n",
    "// Let's play a game\n",
    "\n",
    "// Define a user class\n",
    "function User() {\n",
    "    this.name = '';\n",
    "    this.life = Number(startlife);\n",
    "//     this.life = Math.floor($('div.initiallife').text());\n",
    "    this.giveLife = function giveLife(targetPlayer) {\n",
    "        targetPlayer.life += 1;\n",
    "        this.life -= 1;\n",
    "    }\n",
    "}\n",
    "\n",
    "// Use class\n",
    "var Alfred = new User();\n",
    "var Wallace = new User();\n",
    "\n",
    "// Names were blank so give them name values\n",
    "\n",
    "Alfred.name = 'Alfred';\n",
    "Wallace.name = 'Wallace';\n",
    "\n",
    "// Let Alfred give life to Wallace\n",
    "Alfred.giveLife(Wallace);\n",
    "\n",
    "// Save these variables back to python variables to work with later\n",
    "IPython.notebook.kernel.execute('Alfredlife=\"' + Alfred.life + '\";');\n",
    "IPython.notebook.kernel.execute('Wallacelife=\"' + Wallace.life + '\";');"
   ]
  },
  {
   "cell_type": "code",
   "execution_count": 9,
   "metadata": {
    "collapsed": false
   },
   "outputs": [
    {
     "name": "stdout",
     "output_type": "stream",
     "text": [
      "99\n",
      "101\n"
     ]
    }
   ],
   "source": [
    "# Python\n",
    "print(Alfredlife)\n",
    "print(Wallacelife)"
   ]
  },
  {
   "cell_type": "code",
   "execution_count": null,
   "metadata": {
    "collapsed": true
   },
   "outputs": [],
   "source": []
  }
 ],
 "metadata": {
  "kernelspec": {
   "display_name": "Python 3",
   "language": "python",
   "name": "python3"
  },
  "language_info": {
   "codemirror_mode": {
    "name": "ipython",
    "version": 3
   },
   "file_extension": ".py",
   "mimetype": "text/x-python",
   "name": "python",
   "nbconvert_exporter": "python",
   "pygments_lexer": "ipython3",
   "version": "3.5.2"
  },
  "nav_menu": {},
  "toc": {
   "navigate_menu": true,
   "number_sections": true,
   "sideBar": true,
   "threshold": 6,
   "toc_cell": false,
   "toc_section_display": "block",
   "toc_window_display": false
  },
  "widgets": {
   "state": {},
   "version": "1.1.2"
  }
 },
 "nbformat": 4,
 "nbformat_minor": 0
}
