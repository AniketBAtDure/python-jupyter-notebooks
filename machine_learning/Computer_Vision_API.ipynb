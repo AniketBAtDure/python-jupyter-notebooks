{
 "cells": [
  {
   "cell_type": "markdown",
   "metadata": {},
   "source": [
    "# Computer Vision API example"
   ]
  },
  {
   "cell_type": "markdown",
   "metadata": {},
   "source": [
    "### Instructions - please read through these :)\n",
    "* This is a jupyter notebook so that means interactive coding in a browser\n",
    "* You want to run each grey cell (the python, in this case, code) in order and one at a time\n",
    "* Make sure each code cell has finished running (a number will appear inside the In[] when the cell is done)\n",
    "* You can also see if the notebook is running by looking for a filled in circle in the upper right corner of this notebook\n",
    "* Feel free to change code (even if you don't know python)\n",
    "* There are many helper methods in this notebook so don't worry if you don't understand\n",
    "* The cells that you should work with will be **<font color=green>indicated with a green font</font>**\n",
    "* Have fun with this and save the notebook often :)"
   ]
  },
  {
   "cell_type": "markdown",
   "metadata": {},
   "source": [
    "## Let's take care of some installs"
   ]
  },
  {
   "cell_type": "code",
   "execution_count": 1,
   "metadata": {
    "collapsed": false
   },
   "outputs": [
    {
     "name": "stdout",
     "output_type": "stream",
     "text": [
      "Fetching package metadata ...........\n",
      "Solving package specifications: .\n",
      "\n",
      "# All requested packages already installed.\n",
      "# packages in environment at /home/nbcommon/anaconda2_410:\n",
      "#\n",
      "opencv                    2.4.11                 nppy27_0    menpo\n"
     ]
    }
   ],
   "source": [
    "!conda install --no-deps -c menpo opencv=2.4.11 --yes"
   ]
  },
  {
   "cell_type": "code",
   "execution_count": 2,
   "metadata": {
    "collapsed": false
   },
   "outputs": [
    {
     "name": "stdout",
     "output_type": "stream",
     "text": [
      "Uninstalling matplotlib-2.0.0:\n",
      "  Successfully uninstalled matplotlib-2.0.0\n",
      "\u001b[33mYou are using pip version 8.1.2, however version 9.0.1 is available.\n",
      "You should consider upgrading via the 'pip install --upgrade pip' command.\u001b[0m\n"
     ]
    }
   ],
   "source": [
    "! pip uninstall matplotlib --yes"
   ]
  },
  {
   "cell_type": "code",
   "execution_count": 3,
   "metadata": {
    "collapsed": false
   },
   "outputs": [],
   "source": [
    "! pip install matplotlib -q"
   ]
  },
  {
   "cell_type": "markdown",
   "metadata": {},
   "source": [
    "## Let's import some modules"
   ]
  },
  {
   "cell_type": "code",
   "execution_count": 4,
   "metadata": {
    "collapsed": false
   },
   "outputs": [],
   "source": [
    "import time \n",
    "import requests\n",
    "import cv2\n",
    "import operator\n",
    "import numpy as np\n",
    "from __future__ import print_function\n",
    "import json\n",
    "from urlparse import urlparse\n",
    "from urllib import urlencode\n",
    "from urllib2 import Request, urlopen\n",
    "from httplib import HTTPSConnection \n",
    "\n",
    "# Import library to display results\n",
    "import matplotlib.pyplot as plt\n",
    "%matplotlib inline \n",
    "# Display images within Jupyter"
   ]
  },
  {
   "cell_type": "markdown",
   "metadata": {},
   "source": [
    "## Now to set some constants"
   ]
  },
  {
   "cell_type": "markdown",
   "metadata": {},
   "source": [
    "* The Cognitive Services keys (grabbing the computer vision one)"
   ]
  },
  {
   "cell_type": "code",
   "execution_count": 5,
   "metadata": {
    "collapsed": false
   },
   "outputs": [],
   "source": [
    "f = urlopen('https://gist.githubusercontent.com/antriv/a6962d2c7580a0f7db4b7aabd6d768c5/raw/38a66f77c7fd0641324c8cbbff77828207041edc/config.json')\n",
    "CONFIG=json.loads(f.read())\n",
    "# grab key from json in config\n",
    "subscription_key = CONFIG['subscription_key_computer_vision']"
   ]
  },
  {
   "cell_type": "markdown",
   "metadata": {},
   "source": [
    "* **<font color=green>The Cognitive Services Computer Vision web service request url</font>**"
   ]
  },
  {
   "cell_type": "code",
   "execution_count": 6,
   "metadata": {
    "collapsed": false
   },
   "outputs": [],
   "source": [
    "# Variables\n",
    "\n",
    "_url = 'https://api.projectoxford.ai/vision/v1.0/describe' # change the ending to 'analyze' or 'describe'\n",
    "_key = subscription_key\n",
    "\n",
    "_maxNumRetries = 10"
   ]
  },
  {
   "cell_type": "markdown",
   "metadata": {},
   "source": [
    "## Helper functions"
   ]
  },
  {
   "cell_type": "code",
   "execution_count": 7,
   "metadata": {
    "collapsed": true
   },
   "outputs": [],
   "source": [
    "def processRequest( json, data, headers, params ):\n",
    "\n",
    "    \"\"\"\n",
    "    Helper function to process the request to Project Oxford\n",
    "\n",
    "    Parameters:\n",
    "    json: Used when processing images from its URL. See API Documentation\n",
    "    data: Used when processing image read from disk. See API Documentation\n",
    "    headers: Used to pass the key information and the data type request\n",
    "    \"\"\"\n",
    "\n",
    "    retries = 0\n",
    "    result = None\n",
    "\n",
    "    while True:\n",
    "\n",
    "        response = requests.request( 'post', _url, json = json, data = data, headers = headers, params = params )\n",
    "\n",
    "        if response.status_code == 429: \n",
    "\n",
    "            print( \"Message: %s\" % ( response.json()['error']['message'] ) )\n",
    "\n",
    "            if retries <= _maxNumRetries: \n",
    "                time.sleep(1) \n",
    "                retries += 1\n",
    "                continue\n",
    "            else: \n",
    "                print( 'Error: failed after retrying!' )\n",
    "                break\n",
    "\n",
    "        elif response.status_code == 200 or response.status_code == 201:\n",
    "\n",
    "            if 'content-length' in response.headers and int(response.headers['content-length']) == 0: \n",
    "                result = None \n",
    "            elif 'content-type' in response.headers and isinstance(response.headers['content-type'], str): \n",
    "                if 'application/json' in response.headers['content-type'].lower(): \n",
    "                    result = response.json() if response.content else None \n",
    "                elif 'image' in response.headers['content-type'].lower(): \n",
    "                    result = response.content\n",
    "        else:\n",
    "            print( \"Error code: %d\" % ( response.status_code ) )\n",
    "            print( \"Message: %s\" % ( response.json() ) )\n",
    "\n",
    "        break\n",
    "        \n",
    "    return result"
   ]
  },
  {
   "cell_type": "code",
   "execution_count": 8,
   "metadata": {
    "collapsed": false
   },
   "outputs": [],
   "source": [
    "def renderResultOnImage( result, img ):\n",
    "    \"\"\"Display the obtained results onto the input image\"\"\"\n",
    "\n",
    "    if 'description' in result:\n",
    "        descrip = result['description']['captions'][0]['text']\n",
    "        print(descrip)\n",
    "        cv2.putText( img, descrip, (30,70), cv2.FONT_HERSHEY_SIMPLEX, 1, (255,0,0), 3 )\n",
    "    if 'categories' in result:\n",
    "        # Put a rectangle around the image to reflect accent colors\n",
    "        R = int(result['color']['accentColor'][:2],16)\n",
    "        G = int(result['color']['accentColor'][2:4],16)\n",
    "        B = int(result['color']['accentColor'][4:],16)\n",
    "        if img is not None:\n",
    "            cv2.rectangle( img,(0,0), (img.shape[1], img.shape[0]), color = (R,G,B), thickness = 25 )\n",
    "\n",
    "        categoryName = sorted(result['categories'], key=lambda x: x['score'])[0]['name']\n",
    "        print(categoryName)\n",
    "        cv2.putText( img, categoryName, (30,70), cv2.FONT_HERSHEY_SIMPLEX, 2, (255,0,0), 3 )"
   ]
  },
  {
   "cell_type": "markdown",
   "metadata": {},
   "source": [
    "## Analysis of an image retrieved via URL\n",
    "\n",
    "* **<font color=green>Place an image URL here in the `urlImage` variable (must be a good quality, large image)</font>**\n",
    "\n",
    "Input requirements:\n",
    "* Supported image formats: JPEG, PNG, GIF, BMP.\n",
    "* Image file size must be less than 4MB.\n",
    "* Image dimensions should be greater than 50 x 50."
   ]
  },
  {
   "cell_type": "code",
   "execution_count": 11,
   "metadata": {
    "collapsed": true
   },
   "outputs": [],
   "source": [
    "urlImage = 'http://gb.fotolibra.com/images/previews/392412-pair-of-swans-at-stanborough-park.jpeg'\n",
    "# urlImage = 'you own url'"
   ]
  },
  {
   "cell_type": "code",
   "execution_count": 12,
   "metadata": {
    "collapsed": false
   },
   "outputs": [
    {
     "name": "stdout",
     "output_type": "stream",
     "text": [
      "a swan in the water\n"
     ]
    },
    {
     "data": {
      "text/html": [
       "<img src=\"http://gb.fotolibra.com/images/previews/392412-pair-of-swans-at-stanborough-park.jpeg\"/>"
      ],
      "text/plain": [
       "<IPython.core.display.Image object>"
      ]
     },
     "metadata": {},
     "output_type": "display_data"
    }
   ],
   "source": [
    "from IPython.display import display, Image\n",
    "\n",
    "\n",
    "# Computer Vision parameters\n",
    "params = { 'visualFeatures' : 'Color,Categories'} \n",
    "\n",
    "headers = dict()\n",
    "headers['Ocp-Apim-Subscription-Key'] = _key\n",
    "headers['Content-Type'] = 'application/json' \n",
    "\n",
    "json = { 'url': urlImage } \n",
    "data = None\n",
    "\n",
    "result = processRequest( json, data, headers, params )\n",
    "\n",
    "if result is not None:\n",
    "    # Load the original image, fetched from the URL\n",
    "    arr = np.asarray( bytearray( requests.get( urlImage ).content ), dtype=np.uint8 )  \n",
    "    img = cv2.imdecode(arr, cv2.IMREAD_COLOR)\n",
    "\n",
    "    renderResultOnImage( result, img )\n",
    "    \n",
    "    if img is not None:\n",
    "        plt.subplots(figsize=(15, 20))\n",
    "        plt.imshow( img )\n",
    "    else:\n",
    "        img = Image(url=urlImage, embed=False)\n",
    "        display(img)\n"
   ]
  },
  {
   "cell_type": "markdown",
   "metadata": {},
   "source": [
    "### EXERCISE"
   ]
  },
  {
   "cell_type": "code",
   "execution_count": null,
   "metadata": {
    "collapsed": true
   },
   "outputs": [],
   "source": [
    "# try changing the word 'describe' to 'analyze' in the _url (web service url for REST api) cell towards the beginning"
   ]
  },
  {
   "cell_type": "code",
   "execution_count": null,
   "metadata": {
    "collapsed": true
   },
   "outputs": [],
   "source": []
  }
 ],
 "metadata": {
  "kernelspec": {
   "display_name": "Python 2",
   "language": "python",
   "name": "python2"
  },
  "language_info": {
   "codemirror_mode": {
    "name": "ipython",
    "version": 2
   },
   "file_extension": ".py",
   "mimetype": "text/x-python",
   "name": "python",
   "nbconvert_exporter": "python",
   "pygments_lexer": "ipython2",
   "version": "2.7.11"
  }
 },
 "nbformat": 4,
 "nbformat_minor": 0
}
