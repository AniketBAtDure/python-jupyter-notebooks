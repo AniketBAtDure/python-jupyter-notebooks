{
 "cells": [
  {
   "cell_type": "markdown",
   "metadata": {
    "_cell_guid": "9e340962-ed4a-8e0f-6877-f504cffc25ab"
   },
   "source": [
    "## Pixel-Based Class Identifier\n",
    "\n",
    "This script shows the full training and prediction pipeline for a pixel-based classifier: we create a mask, train logistic regression on one-pixel patches, make prediction for all pixels, create and smooth polygons from pixels.\n",
    "\n",
    "This notebook can be found at https://www.kaggle.com/lopuhin/full-pipeline-demo-poly-pixels-ml-poly/data/notebook\n",
    "\n",
    "Or by going to https://www.kaggle.com/c/dstl-satellite-imagery-feature-detection and selecting \"Full pipeline demo: poly -> pixels -> ML -> poly\" by Konstantin Lopuhin under Kernels and viewing the Notebook and Data."
   ]
  },
  {
   "cell_type": "markdown",
   "metadata": {},
   "source": [
    "#### Object types in the geo data\n",
    "In a satellite image, you will find lots of different objects like roads, buildings, vehicles, farms, trees, water ways, etc. Dstl has labeled 10 different classes:\n",
    "\n",
    "1. Buildings - large building, residential, non-residential, fuel storage facility, fortified building\n",
    "2. Misc. Manmade structures \n",
    "3. Road \n",
    "4. Track - poor/dirt/cart track, footpath/trail\n",
    "5. Trees - woodland, hedgerows, groups of trees, standalone trees\n",
    "6. Crops - contour ploughing/cropland, grain (wheat) crops, row (potatoes, turnips) crops\n",
    "7. Waterway \n",
    "8. Standing water\n",
    "9. Vehicle Large - large vehicle (e.g. lorry, truck,bus), logistics vehicle\n",
    "10. Vehicle Small - small vehicle (car, van), motorbike\n",
    "\n",
    "\n",
    "Every object class is described in the form of Polygons and MultiPolygons, which are simply a list of polygons. We provide two different formats for these shapes: GeoJson and WKT. These are both open source formats for geo-spatial shapes. "
   ]
  },
  {
   "cell_type": "code",
   "execution_count": 1,
   "metadata": {
    "_cell_guid": "e388c17e-209b-97bb-a4d1-5ee5b8a9dbdc"
   },
   "outputs": [
    {
     "data": {
      "text/plain": [
       "131072"
      ]
     },
     "execution_count": 1,
     "metadata": {},
     "output_type": "execute_result"
    }
   ],
   "source": [
    "from collections import defaultdict\n",
    "import csv\n",
    "import sys\n",
    "import glob\n",
    "import os\n",
    "\n",
    "import cv2\n",
    "from shapely.geometry import MultiPolygon, Polygon\n",
    "import shapely.wkt\n",
    "import shapely.affinity\n",
    "import numpy as np\n",
    "import tifffile as tiff\n",
    "\n",
    "import numpy as np\n",
    "import matplotlib.pyplot as plt\n",
    "from scipy import misc\n",
    "\n",
    "%matplotlib inline\n",
    "\n",
    "csv.field_size_limit(pow(2, 31)-1) # ensure for 32 bit"
   ]
  },
  {
   "cell_type": "markdown",
   "metadata": {
    "_cell_guid": "f419e71d-3ae0-9cdf-b10c-88049fafc541"
   },
   "source": [
    "We'll work on buildings (class 1) from image 6120_2_2. Fist load grid sizes and polygons."
   ]
  },
  {
   "cell_type": "markdown",
   "metadata": {},
   "source": [
    "Using data from https://www.kaggle.com/lopuhin/full-pipeline-demo-poly-pixels-ml-poly/data/data"
   ]
  },
  {
   "cell_type": "markdown",
   "metadata": {
    "_cell_guid": "ed5d76c8-47a3-2a65-f6b4-46ef0e53af65"
   },
   "source": [
    "A helper for nicer display"
   ]
  },
  {
   "cell_type": "code",
   "execution_count": 2,
   "metadata": {
    "_cell_guid": "78357c93-f936-a843-110a-009455a25830",
    "collapsed": true
   },
   "outputs": [],
   "source": [
    "def scale_percentile(matrix):\n",
    "    w, h, d = matrix.shape\n",
    "    matrix = np.reshape(matrix, [w * h, d]).astype(np.float64)\n",
    "    # Get 2nd and 98th percentile\n",
    "    mins = np.percentile(matrix, 1, axis=0)\n",
    "    maxs = np.percentile(matrix, 99, axis=0) - mins\n",
    "    matrix = (matrix - mins[None, :]) / maxs[None, :]\n",
    "    matrix = np.reshape(matrix, [w, h, d])\n",
    "    matrix = matrix.clip(0, 1)\n",
    "    return matrix"
   ]
  },
  {
   "cell_type": "markdown",
   "metadata": {},
   "source": [
    "#### Folder structure for data in project folder\n",
    "\n",
    "```\n",
    "\n",
    "data\n",
    "  \\input\n",
    "    image1_name.tif\n",
    "  \\output_jpg_class_<name>\n",
    "    image1_name.jpg\n",
    "  \\output_mask_class_<name>\n",
    "    image1_name.jpg\n",
    "```\n",
    "\n",
    "where `<name>` is the name of the class.  The `image1_name.jpg` under `output_jpg_class_<name>` folder and `output_mask_class_<name>` folder are different images (first is the RGB and second is the binary mask image based on the polygon geo data).  \n",
    "\n",
    "The second and third folders get creeated if not already in this notebook."
   ]
  },
  {
   "cell_type": "code",
   "execution_count": 3,
   "metadata": {
    "collapsed": true
   },
   "outputs": [],
   "source": [
    "# Create a list of existing tif files and names list for output files\n",
    "img_files = glob.glob(os.path.join('data', 'input','*.tif'))\n",
    "img_files_out = [s.replace('tif', 'jpg') for s in img_files]"
   ]
  },
  {
   "cell_type": "markdown",
   "metadata": {},
   "source": [
    "#### Create output folders"
   ]
  },
  {
   "cell_type": "code",
   "execution_count": 4,
   "metadata": {},
   "outputs": [],
   "source": [
    "if not os.path.exists(os.path.join('data','output_jpg_class_tree')):\n",
    "    os.mkdir(os.path.join('data','output_jpg_class_tree'))\n",
    "if not os.path.exists(os.path.join('data','output_jpg_class_crop')):\n",
    "    os.mkdir(os.path.join('data','output_jpg_class_crop'))\n",
    "if not os.path.exists(os.path.join('data','output_mask_class_tree')):\n",
    "    os.mkdir(os.path.join('data','output_mask_class_tree'))\n",
    "if not os.path.exists(os.path.join('data','output_mask_class_crop')):\n",
    "    os.mkdir(os.path.join('data','output_mask_class_crop'))"
   ]
  },
  {
   "cell_type": "markdown",
   "metadata": {
    "_cell_guid": "738a815a-a1ee-aed4-19e5-a6f745458bbf"
   },
   "source": [
    "Function to scale polygons to match image:"
   ]
  },
  {
   "cell_type": "code",
   "execution_count": 5,
   "metadata": {
    "_cell_guid": "8ba03b67-e2a0-d855-2fe6-ae2f8e4ad897",
    "collapsed": true
   },
   "outputs": [],
   "source": [
    "def get_scalers(im_size):\n",
    "    h, w = im_size  # they are flipped so that mask_for_polygons works correctly\n",
    "    w_ = w * (w / (w + 1))\n",
    "    h_ = h * (h / (h + 1))\n",
    "    return w_ / x_max, h_ / y_min"
   ]
  },
  {
   "cell_type": "markdown",
   "metadata": {
    "_cell_guid": "8ce835a0-2e65-4685-6001-e3aa211c05fa"
   },
   "source": [
    "Function to create a mask from polygons:"
   ]
  },
  {
   "cell_type": "code",
   "execution_count": 6,
   "metadata": {
    "_cell_guid": "49b3b539-00da-2adb-4d23-eeedc896a7eb",
    "collapsed": true
   },
   "outputs": [],
   "source": [
    "def mask_for_polygons(polygons):\n",
    "    img_mask = np.zeros(im_size, np.uint8)\n",
    "    if not polygons:\n",
    "        return img_mask\n",
    "    int_coords = lambda x: np.array(x).round().astype(np.int32)\n",
    "    exteriors = [int_coords(poly.exterior.coords) for poly in polygons]\n",
    "    interiors = [int_coords(pi.coords) for poly in polygons\n",
    "                 for pi in poly.interiors]\n",
    "    cv2.fillPoly(img_mask, exteriors, 1)\n",
    "    cv2.fillPoly(img_mask, interiors, 0)\n",
    "    return img_mask"
   ]
  },
  {
   "cell_type": "code",
   "execution_count": 7,
   "metadata": {
    "collapsed": true
   },
   "outputs": [],
   "source": [
    "def save_mask(m, f):\n",
    "    # hack for nice display\n",
    "    w, h, d = m.shape\n",
    "    matrix = np.reshape(m, [w * h, d]).astype(np.float64)\n",
    "    misc.imsave(f, matrix)"
   ]
  },
  {
   "cell_type": "code",
   "execution_count": null,
   "metadata": {},
   "outputs": [],
   "source": [
    "\n",
    "POLY_TYPE = '5'  # trees or crops\n",
    "for f in img_files_out:\n",
    "    \n",
    "    IM_ID = os.path.basename(f).replace('.jpg', '')\n",
    "    print(IM_ID)\n",
    "    \n",
    "    # Load grid size\n",
    "    x_max = y_min = None\n",
    "    for _im_id, _x, _y in csv.reader(open(\n",
    "        os.path.join('data', 'grid_sizes.csv'))):\n",
    "        if _im_id == IM_ID:\n",
    "            x_max, y_min = float(_x), float(_y)\n",
    "            break\n",
    "\n",
    "    # Load train poly with shapely\n",
    "    train_polygons = None\n",
    "    for _im_id, _poly_type, _poly in csv.reader(open(\n",
    "        os.path.join('data', 'train_wkt_v4.csv'))):\n",
    "        if _im_id == IM_ID and _poly_type == POLY_TYPE:\n",
    "            train_polygons = shapely.wkt.loads(_poly)\n",
    "            break\n",
    "            \n",
    "    if train_polygons is None or x_max is None:\n",
    "        continue\n",
    "            \n",
    "    im_rgb = tiff.imread(f.replace('jpg', 'tif')).transpose([1, 2, 0])\n",
    "    im_size = im_rgb.shape[:2]\n",
    "    \n",
    "    misc.imsave(os.path.join('output1_xyz',f), (255 * scale_percentile(im_rgb)))\n",
    "    \n",
    "    x_scaler, y_scaler = get_scalers(im_size)\n",
    "    train_polygons_scaled = shapely.affinity.scale(\n",
    "        train_polygons, xfact=x_scaler, yfact=y_scaler, origin=(0, 0, 0))\n",
    "    train_mask = mask_for_polygons(train_polygons_scaled)\n",
    "    save_mask((255 * np.stack([train_mask])),\n",
    "              os.path.join('output2_xyz', f.replace('.jpg', '_mask.jpg')))\n",
    "    "
   ]
  },
  {
   "cell_type": "code",
   "execution_count": 8,
   "metadata": {
    "collapsed": true
   },
   "outputs": [],
   "source": [
    "# The order with which we want to color our classes on the image \"paint them on\"\n",
    "CLASS_ORDER = [6, 7, 8, 5, 4, 3, 1, 2, 9, 10]"
   ]
  },
  {
   "cell_type": "code",
   "execution_count": 9,
   "metadata": {
    "collapsed": true
   },
   "outputs": [],
   "source": [
    "# 1. Buildings - large building, residential, non-residential, fuel storage facility, fortified building\n",
    "# 2. Misc. Manmade structures \n",
    "# 3. Road\n",
    "# 4. Track - poor/dirt/cart track, footpath/trail\n",
    "# 5. Trees - woodland, hedgerows, groups of trees, standalone trees\n",
    "# 6. Crops - contour ploughing/cropland, grain (wheat) crops, row (potatoes, turnips) crops\n",
    "# 7. Waterway \n",
    "# 8. Standing water\n",
    "# 9. Vehicle Large - large vehicle (e.g. lorry, truck,bus), logistics vehicle\n",
    "# 10. Vehicle Small - small vehicle (car, van), motorbike\n",
    "\n",
    "COLORS = [\n",
    "    (255,105,180), # Pink\n",
    "    (148,0,211), # Dark Violet\n",
    "    (190,190,190), # Gray\n",
    "    (255,255,0), # Yellow\n",
    "    (0,100,0), # Forest Green\n",
    "    (143,188,143), # Dark Sea Green\n",
    "    (0,0,255), # Blue\n",
    "    (64,224,208), # Turquoise\n",
    "    (49,79,79), # Dark Slate Gray\n",
    "    (178,34,34) # 7 Firebrick Red\n",
    "]"
   ]
  },
  {
   "cell_type": "markdown",
   "metadata": {},
   "source": [
    "#### Color pixels by class"
   ]
  },
  {
   "cell_type": "code",
   "execution_count": 10,
   "metadata": {},
   "outputs": [
    {
     "name": "stdout",
     "output_type": "stream",
     "text": [
      "(11356459, 3)\n",
      "6\n",
      "(143, 188, 143)\n",
      "7\n",
      "(0, 0, 255)\n",
      "8\n",
      "(64, 224, 208)\n",
      "5\n",
      "(0, 100, 0)\n",
      "4\n",
      "(255, 255, 0)\n",
      "3\n",
      "(190, 190, 190)\n",
      "1\n",
      "(255, 105, 180)\n",
      "2\n",
      "(148, 0, 211)\n",
      "9\n",
      "(49, 79, 79)\n",
      "10\n",
      "(178, 34, 34)\n"
     ]
    },
    {
     "data": {
      "image/png": "[encoded data removed]",
      "text/plain": [
       "<matplotlib.figure.Figure at 0x1116074a8>"
      ]
     },
     "metadata": {},
     "output_type": "display_data"
    }
   ],
   "source": [
    "# Color-code an image based on classes and polygons\n",
    "IM_ID = '6100_2_2'\n",
    "# IM_ID = '6110_4_0' # another with 10 classes represented\n",
    "# IM_ID = '6010_4_2' # two classes represented\n",
    "\n",
    "im_rgb = tiff.imread(os.path.join('data', 'input', \n",
    "                                  IM_ID + '.tif')).transpose([1, 2, 0])\n",
    "im_size = im_rgb.shape[:2]\n",
    "\n",
    "len(im_rgb.flatten())\n",
    "class_desig = np.zeros(im_rgb.shape[0]*im_rgb.shape[1], \n",
    "                       dtype=(float,3))\n",
    "print(class_desig.shape)\n",
    "\n",
    "# Load grid size\n",
    "x_max = y_min = None\n",
    "for _im_id, _x, _y in csv.reader(open(\n",
    "    os.path.join('data', 'grid_sizes.csv'))):\n",
    "    if _im_id == IM_ID:\n",
    "        x_max, y_min = float(_x), float(_y)\n",
    "        break\n",
    "\n",
    "clr_idx = 0\n",
    "for POLY_TYPE in CLASS_ORDER:\n",
    "    print(POLY_TYPE)\n",
    "\n",
    "    # Load train poly with shapely\n",
    "    train_polygons = None\n",
    "    for _im_id, _poly_type, _poly in csv.reader(open(\n",
    "        os.path.join('data', 'train_wkt_v4.csv'))):\n",
    "        if _im_id == IM_ID and _poly_type == str(POLY_TYPE):\n",
    "            train_polygons = shapely.wkt.loads(_poly)\n",
    "            break\n",
    "\n",
    "    if train_polygons is None or x_max is None:\n",
    "        continue\n",
    "\n",
    "    x_scaler, y_scaler = get_scalers(im_size)\n",
    "    train_polygons_scaled = shapely.affinity.scale(\n",
    "        train_polygons, xfact=x_scaler, yfact=y_scaler, origin=(0, 0, 0))\n",
    "    train_mask = mask_for_polygons(train_polygons_scaled)\n",
    "    \n",
    "    a = train_mask.flatten()\n",
    "    class_desig[np.where(a == 1)] = COLORS[POLY_TYPE-1]\n",
    "    clr_idx+=1\n",
    "    print(COLORS[POLY_TYPE-1])\n",
    "    \n",
    "#TODO:  reshape better\n",
    "    \n",
    "r = np.array([x[0] for x in class_desig]).reshape(im_size)\n",
    "g = np.array([x[1] for x in class_desig]).reshape(im_size)\n",
    "b = np.array([x[2] for x in class_desig]).reshape(im_size)\n",
    "\n",
    "res = np.stack([r, g, b], axis=2) * 255\n",
    "\n",
    "plt.imshow(res)\n",
    "misc.imsave('6100_2_2_all_classes.jpg', res)"
   ]
  },
  {
   "cell_type": "code",
   "execution_count": null,
   "metadata": {
    "collapsed": true
   },
   "outputs": [],
   "source": []
  }
 ],
 "metadata": {
  "_change_revision": 76,
  "_is_fork": false,
  "kernelspec": {
   "display_name": "Python 3",
   "language": "python",
   "name": "python3"
  },
  "language_info": {
   "codemirror_mode": {
    "name": "ipython",
    "version": 3
   },
   "file_extension": ".py",
   "mimetype": "text/x-python",
   "name": "python",
   "nbconvert_exporter": "python",
   "pygments_lexer": "ipython3",
   "version": "3.5.3"
  },
  "nav_menu": {},
  "toc": {
   "navigate_menu": true,
   "number_sections": true,
   "sideBar": true,
   "threshold": 6,
   "toc_cell": false,
   "toc_section_display": "block",
   "toc_window_display": false
  }
 },
 "nbformat": 4,
 "nbformat_minor": 1
}
