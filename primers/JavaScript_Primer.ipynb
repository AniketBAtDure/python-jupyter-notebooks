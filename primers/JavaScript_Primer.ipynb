{
 "cells": [
  {
   "cell_type": "markdown",
   "metadata": {},
   "source": [
    "### Instructions - please read through these :)\n",
    "\n",
    "\n",
    "* This is a jupyter notebook so that means **interactive coding** in a browser environment\n",
    "* You want to run each grey cell (the javascript or python) **in order and one at a time**\n",
    "* Make sure each code cell has **finished running** (a number will appear inside the In[] when the cell is done)\n",
    "* You can also see if the notebook is running by looking for a filled in circle in the upper right corner of this notebook\n",
    "* Feel free to **change code** (even if you don't know javascript)\n",
    "* The cells that **you should work with** will have TASKs\n",
    "* **Have fun** with this and save the notebook often :)"
   ]
  },
  {
   "cell_type": "markdown",
   "metadata": {},
   "source": [
    "### Objects\n",
    "* NOTE:  Everything really is an object in JavaScript, but here's a sipmle classic object\n",
    "\n",
    "They can look like:\n",
    "\n",
    "```javascript\n",
    "// This is an object\n",
    "var myvar = {\n",
    "    foo: \"bar\"\n",
    "}\n",
    "\n",
    "// This is a variable\n",
    "var result = myvar.foo;\n",
    "```\n",
    "Then we'll print it in a python code cell (just the trick we need to print vars in js)"
   ]
  },
  {
   "cell_type": "code",
   "execution_count": null,
   "metadata": {
    "collapsed": false
   },
   "outputs": [],
   "source": [
    "%%javascript\n",
    "\n",
    "// TASK:  Create an object\n",
    "\n",
    "\n",
    "\n",
    "// TASK save one attribute to the result variable (to print out)\n",
    "var result = _____\n",
    "\n",
    "// A trick save these variables back to python variables to work with later\n",
    "IPython.notebook.kernel.execute('result=\"' + result + '\";');"
   ]
  },
  {
   "cell_type": "code",
   "execution_count": null,
   "metadata": {
    "collapsed": false
   },
   "outputs": [],
   "source": [
    "# This is python - just using it to print\n",
    "print(result)"
   ]
  },
  {
   "cell_type": "markdown",
   "metadata": {},
   "source": [
    "### Functions\n",
    "\n",
    "\n",
    "Example function:\n",
    "\n",
    "```javascript\n",
    "\n",
    "// Define the function\n",
    "var myfunc = function() {\n",
    "    return \"hello\";\n",
    "}\n",
    "\n",
    "// Use the funciton\n",
    "var result = myfunc();\n",
    "```\n"
   ]
  },
  {
   "cell_type": "code",
   "execution_count": null,
   "metadata": {
    "collapsed": false
   },
   "outputs": [],
   "source": [
    "%%javascript\n",
    "\n",
    "// assign an anonymous func to a variable\n",
    "var printBacon = function() {\n",
    "\n",
    "  // TASK:  return something, otherwise undefined\n",
    "};\n",
    "\n",
    "// TASK:  use this fucntion and place result in \"result\"\n",
    "\n",
    "\n",
    "// Our trick:  save these variables back to python variables to work with later\n",
    "IPython.notebook.kernel.execute('result=\"' + result + '\";');"
   ]
  },
  {
   "cell_type": "code",
   "execution_count": null,
   "metadata": {
    "collapsed": false
   },
   "outputs": [],
   "source": [
    "# In python\n",
    "print(result)"
   ]
  },
  {
   "cell_type": "markdown",
   "metadata": {},
   "source": [
    "### Understand this and public vs. private\n",
    "\n",
    "\n",
    "\n"
   ]
  },
  {
   "cell_type": "code",
   "execution_count": null,
   "metadata": {
    "collapsed": false
   },
   "outputs": [],
   "source": [
    "%%javascript\n",
    "\n",
    "function Container(param) {\n",
    "    // this attaches \"member\" to an instance of this class\n",
    "    this.member = param;\n",
    "}\n",
    "\n",
    "var myContainer = new Container('abc');\n",
    "\n",
    "// TASK:  Access the string value in the instatiation of myContainer\n",
    "\n",
    "\n",
    "IPython.notebook.kernel.execute('result=\"' + result + '\";');"
   ]
  },
  {
   "cell_type": "code",
   "execution_count": null,
   "metadata": {
    "collapsed": true
   },
   "outputs": [],
   "source": [
    "print(result)"
   ]
  },
  {
   "cell_type": "code",
   "execution_count": null,
   "metadata": {
    "collapsed": false
   },
   "outputs": [],
   "source": [
    "%%javascript\n",
    "\n",
    "function GymMember(name) {\n",
    "    this.membername = name;\n",
    "    \n",
    "    // These are private\n",
    "    var id = 3;\n",
    "    var that = this;\n",
    "    \n",
    "\n",
    "};\n",
    "\n",
    "\n",
    "// TASKS:  \n",
    "//    1) instance of class \n",
    "//    2) access id from the instance object\n",
    "//    3) write an anonymous function in class \n",
    "//    4) access that class method\n",
    "\n",
    "\n",
    "// What is the issue?\n",
    "\n",
    "// You can find more info at:  http://www.crockford.com/javascript/private.html\n",
    "\n",
    "IPython.notebook.kernel.execute('result=\"' + result + '\";');"
   ]
  },
  {
   "cell_type": "code",
   "execution_count": null,
   "metadata": {
    "collapsed": false
   },
   "outputs": [],
   "source": [
    "print(result)"
   ]
  },
  {
   "cell_type": "markdown",
   "metadata": {},
   "source": [
    "### A very simple game to show off classes in javascript\n",
    "* Fill in the places that have a \"TASK\""
   ]
  },
  {
   "cell_type": "code",
   "execution_count": null,
   "metadata": {
    "collapsed": false
   },
   "outputs": [],
   "source": [
    "%%javascript\n",
    "\n",
    "// a User class:\n",
    "function User() {\n",
    "    this.name = \"\";\n",
    "    this.life = 100;\n",
    "    this.giveLife = function giveLife(targetPlayer) {\n",
    "        targetPlayer.life += 1;\n",
    "        \n",
    "        // TASK:  We can give life points, but what about taking away life points\n",
    "    }\n",
    "}\n",
    "\n",
    "// Use class method\n",
    "var Alfred = new User();\n",
    "var Mich = new User();\n",
    "\n",
    "// Names were blank so give them name values\n",
    "Alfred.name = \"Alfred\";\n",
    "Mich.name = \"Mich\";\n",
    "\n",
    "\n",
    "// TASK:  give the life points from Alfred to Mich\n",
    "\n",
    "\n",
    "// Save these variables back to python variables to work with later\n",
    "IPython.notebook.kernel.execute('Alfred_life=\"' + Alfred.life + '\";');\n",
    "IPython.notebook.kernel.execute('Mich_life=\"' + Mich.life + '\";');"
   ]
  },
  {
   "cell_type": "code",
   "execution_count": null,
   "metadata": {
    "collapsed": false
   },
   "outputs": [],
   "source": [
    "print(Alfred_life)\n",
    "print(Mich_life)"
   ]
  },
  {
   "cell_type": "markdown",
   "metadata": {},
   "source": [
    "### Let's look at prototyping\n",
    "* It's where we can add a method to a class after the fact\n",
    "\n",
    "Such as\n",
    "\n",
    "```javascript\n",
    "\n",
    "// Change a user's name\n",
    "User.prototype.newFancyMethod = function(newname) {\n",
    "    this.name = newname;\n",
    "}\n",
    "```"
   ]
  },
  {
   "cell_type": "code",
   "execution_count": 15,
   "metadata": {
    "collapsed": false
   },
   "outputs": [
    {
     "data": {
      "application/javascript": [
       "\n",
       "// a User class:\n",
       "function User() {\n",
       "    this.name = \"\";\n",
       "    this.life = 100;\n",
       "    this.giveLife = function giveLife(targetPlayer) {\n",
       "        targetPlayer.life += 1;        \n",
       "        this.life-=1;\n",
       "    }\n",
       "}\n",
       "\n",
       "// TASK:  Create a prototyped extra method to do something harmful to a player (e.g. punch)\n",
       "User.prototype.punch = function(targetPlayer) {\n",
       "    targetPlayer -= 2;\n",
       "    this.life += 3;\n",
       "}\n",
       "\n",
       "\n",
       "// Use class method\n",
       "var Alfred = new User();\n",
       "var Mich = new User();\n",
       "\n",
       "// Names were blank so give them name values\n",
       "Alfred.name = \"Alfred\";\n",
       "Mich.name = \"Mich\";\n",
       "\n",
       "\n",
       "// give the life points from Alfred to Mich\n",
       "Alfred.giveLife(Mich);\n",
       "\n",
       "\n",
       "// TASK:  Use your harmful method\n",
       "Alfred.punch(Mich);\n",
       "\n",
       "\n",
       "// Save these variables back to python variables to work with later\n",
       "IPython.notebook.kernel.execute('Alfred_life=\"' + Alfred.life + '\";');\n",
       "IPython.notebook.kernel.execute('Mich_life=\"' + Mich.life + '\";');"
      ],
      "text/plain": [
       "<IPython.core.display.Javascript object>"
      ]
     },
     "metadata": {},
     "output_type": "display_data"
    }
   ],
   "source": [
    "%%javascript\n",
    "\n",
    "// a User class:\n",
    "function User() {\n",
    "    this.name = \"\";\n",
    "    this.life = 100;\n",
    "    this.giveLife = function giveLife(targetPlayer) {\n",
    "        targetPlayer.life += 1;        \n",
    "        this.life-=1;\n",
    "    }\n",
    "}\n",
    "\n",
    "// TASK:  Create a prototyped extra method to do something harmful to a player (e.g. punch)\n",
    "\n",
    "\n",
    "\n",
    "// Use class method\n",
    "var Alfred = new User();\n",
    "var Mich = new User();\n",
    "\n",
    "// Names were blank so give them name values\n",
    "Alfred.name = \"Alfred\";\n",
    "Mich.name = \"Mich\";\n",
    "\n",
    "\n",
    "// give the life points from Alfred to Mich\n",
    "Alfred.giveLife(Mich);\n",
    "\n",
    "\n",
    "// TASK:  Use your harmful method\n",
    "Alfred.punch(Mich);\n",
    "\n",
    "\n",
    "// Save these variables back to python variables to work with later\n",
    "IPython.notebook.kernel.execute('Alfred_life=\"' + Alfred.life + '\";');\n",
    "IPython.notebook.kernel.execute('Mich_life=\"' + Mich.life + '\";');"
   ]
  },
  {
   "cell_type": "code",
   "execution_count": 16,
   "metadata": {
    "collapsed": false
   },
   "outputs": [
    {
     "name": "stdout",
     "output_type": "stream",
     "text": [
      "102\n",
      "101\n"
     ]
    }
   ],
   "source": [
    "print(Alfred_life)\n",
    "print(Mich_life)"
   ]
  },
  {
   "cell_type": "markdown",
   "metadata": {},
   "source": [
    "### BTW This would all be on the server side (for Node.js)\n",
    "\n",
    "Let's talk about callbacks for a moement.  Callback explanation for this example:\n",
    "\n",
    "```unix\n",
    "I'm the server and I gave an order to chef.  The chef will call me \n",
    "   back when order is ready, meanwhile, I'll be doing something \n",
    "   else (like taking the next order to place).\n",
    "```"
   ]
  },
  {
   "cell_type": "code",
   "execution_count": null,
   "metadata": {
    "collapsed": false
   },
   "outputs": [],
   "source": [
    "%%javascript\n",
    "\n",
    "//==========IGNORE THIS STUFF============\n",
    "\n",
    "function sleep(milliseconds) {\n",
    "  var start = new Date().getTime();\n",
    "  for (var i = 0; i < 1e7; i++) {\n",
    "    if ((new Date().getTime() - start) > milliseconds){\n",
    "      break;\n",
    "    }\n",
    "  }\n",
    "}\n",
    "//========================================\n",
    "\n",
    "\n",
    "\n",
    "var result;\n",
    "var message = ''; // you will be modifying this\n",
    "\n",
    "function placeAnOrder(orderNumber) {\n",
    "    result = orderNumber;\n",
    "    \n",
    "    // It's a function as an argument\n",
    "    cookAndDeliverFood(function() {\n",
    "        // TASK: change the \"message\" var to reflect the order number (Hint: orderNumber.toString())\n",
    "    });\n",
    "\n",
    "}\n",
    "\n",
    "// This function we want to run asynchronously (but we're not here)\n",
    "// This is (should be) simulating some time consuming operation like connecting to a database\n",
    "function cookAndDeliverFood(callback) {\n",
    "    sleep(5000);\n",
    "    callback(); // usually this is done asynchronously with setTimeout\n",
    "    message += ' cooking, ';\n",
    "}\n",
    "\n",
    "// TASK:  Place a few orders\n",
    "\n",
    "\n",
    "\n",
    "IPython.notebook.kernel.execute('result=\"' + message + '\";');"
   ]
  },
  {
   "cell_type": "code",
   "execution_count": null,
   "metadata": {
    "collapsed": false
   },
   "outputs": [],
   "source": [
    "print(result)"
   ]
  },
  {
   "cell_type": "code",
   "execution_count": 39,
   "metadata": {
    "collapsed": false
   },
   "outputs": [
    {
     "data": {
      "application/javascript": [
       "\n",
       "var message = \"\";\n",
       "// var currentdate = new Date();\n",
       "var currentdate = Date.now();\n",
       "// var currentsecs = currentdate.getSeconds()\n",
       "setInterval(function() {\n",
       "    message += \"hot dog \\n\";\n",
       "}, 2000);\n",
       "var nextdate = Date.now();\n",
       "\n",
       "var result = currentdate.toString();\n",
       "var result2 = nextdate.toString()\n",
       "\n",
       "IPython.notebook.kernel.execute('result=\"' + result + '\";');\n",
       "IPython.notebook.kernel.execute('result2=\"' + result2 + '\";');\n",
       "IPython.notebook.kernel.execute('result3=\"' + message + '\";');"
      ],
      "text/plain": [
       "<IPython.core.display.Javascript object>"
      ]
     },
     "metadata": {},
     "output_type": "display_data"
    }
   ],
   "source": [
    "%%javascript\n",
    "\n",
    "var message = \"\";\n",
    "// var currentdate = new Date();\n",
    "var currentdate = Date.now();\n",
    "// var currentsecs = currentdate.getSeconds()\n",
    "setInterval(function() {\n",
    "    message += \"hot dog \\n\";\n",
    "}, 2000);\n",
    "\n",
    "var nextdate = Date.now();\n",
    "\n",
    "var result = currentdate.toString();\n",
    "var result2 = nextdate.toString()\n",
    "\n",
    "IPython.notebook.kernel.execute('result=\"' + result + '\";');\n",
    "IPython.notebook.kernel.execute('result2=\"' + result2 + '\";');\n",
    "IPython.notebook.kernel.execute('result3=\"' + message + '\";');"
   ]
  },
  {
   "cell_type": "code",
   "execution_count": 40,
   "metadata": {
    "collapsed": false
   },
   "outputs": [
    {
     "name": "stdout",
     "output_type": "stream",
     "text": [
      "1487571361086\n",
      "1487571361086\n",
      "\n"
     ]
    }
   ],
   "source": [
    "print(result)\n",
    "print(result2)\n",
    "print(result3)"
   ]
  },
  {
   "cell_type": "code",
   "execution_count": null,
   "metadata": {
    "collapsed": true
   },
   "outputs": [],
   "source": []
  }
 ],
 "metadata": {
  "kernelspec": {
   "display_name": "Python 3",
   "language": "python",
   "name": "python3"
  },
  "language_info": {
   "codemirror_mode": {
    "name": "ipython",
    "version": 3
   },
   "file_extension": ".py",
   "mimetype": "text/x-python",
   "name": "python",
   "nbconvert_exporter": "python",
   "pygments_lexer": "ipython3",
   "version": "3.5.1"
  }
 },
 "nbformat": 4,
 "nbformat_minor": 2
}
