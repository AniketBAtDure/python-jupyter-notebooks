{
 "cells": [
  {
   "cell_type": "markdown",
   "metadata": {},
   "source": [
    "# Implementing a Simple Neural Network with PyTorch\n",
    "\n",
    "Mostly based upon [Learning PyTorch with Examples in PyTorch Docs](http://pytorch.org/tutorials/beginner/pytorch_with_examples.html#pytorch-tensors)\n",
    "\n",
    "Partially based on CS231n notes [here](http://cs231n.github.io/neural-networks-case-study/)"
   ]
  },
  {
   "cell_type": "code",
   "execution_count": 1,
   "metadata": {},
   "outputs": [
    {
     "data": {
      "text/plain": [
       "'3.6.3 |Anaconda, Inc.| (default, Nov  8 2017, 15:10:56) [MSC v.1900 64 bit (AMD64)]'"
      ]
     },
     "execution_count": 1,
     "metadata": {},
     "output_type": "execute_result"
    }
   ],
   "source": [
    "import sys\n",
    "sys.version"
   ]
  },
  {
   "cell_type": "code",
   "execution_count": 2,
   "metadata": {},
   "outputs": [
    {
     "data": {
      "text/plain": [
       "'0.3.1.post2'"
      ]
     },
     "execution_count": 2,
     "metadata": {},
     "output_type": "execute_result"
    }
   ],
   "source": [
    "import numpy as np\n",
    "import matplotlib.pyplot as plt\n",
    "from sklearn.datasets.samples_generator import make_blobs\n",
    "import torch\n",
    "\n",
    "%matplotlib inline\n",
    "torch.__version__"
   ]
  },
  {
   "cell_type": "code",
   "execution_count": 3,
   "metadata": {},
   "outputs": [
    {
     "name": "stdout",
     "output_type": "stream",
     "text": [
      "cuda\n"
     ]
    }
   ],
   "source": [
    "debug = False\n",
    "\n",
    "# Data type\n",
    "dtype = torch.FloatTensor\n",
    "\n",
    "# Is GPU available\n",
    "# For drivers see https://docs.nvidia.com/cuda/cuda-installation-guide-microsoft-windows/index.html\n",
    "# May need to reboot computer after driver update!\n",
    "if torch.cuda.is_available():\n",
    "    print('cuda')\n",
    "    dtype = torch.cuda.FloatTensor\n",
    "\n",
    "# N is batch size; D_in is input dimension;\n",
    "# H is hidden dimension; D_out is output dimension.\n",
    "N, D_in, H, D_out = 64, 2, 100, 2\n",
    "\n",
    "# Create random input labels (N x D_out)\n",
    "y_rand = np.random.randn(N, D_out)\n",
    "\n",
    "# Create blobs\n",
    "X, y_label = make_blobs(n_samples=N, centers=2, n_features=D_in,\n",
    "                  random_state=0 )\n",
    "# convert blobs (data in X) to pytorch tensors\n",
    "X = torch.from_numpy(X).type(dtype)\n",
    "\n",
    "# convert y to appropriate dim and type, matching original class labels\n",
    "y_rand[:, 0] = [y_rand[i, 0] + y_label[i] - 1000 if y_label[i] == 0 else y_rand[i, 0] + 1000 for i in range(len(y_label))]\n",
    "y = torch.from_numpy(y_rand).type(dtype)\n",
    "\n",
    "# Randomly initialize weights\n",
    "W1 = torch.randn(D_in, H).type(dtype)\n",
    "W2 = torch.randn(H, D_out).type(dtype)\n",
    "\n",
    "learning_rate = 1e-6\n",
    "\n",
    "# Vector to which loss over training is saved\n",
    "loss_vec = []\n",
    "\n",
    "# Epochs\n",
    "epochs = 10000"
   ]
  },
  {
   "cell_type": "code",
   "execution_count": 4,
   "metadata": {},
   "outputs": [
    {
     "data": {
      "image/png": "[encoded data removed]",
      "text/plain": [
       "<Figure size 432x288 with 1 Axes>"
      ]
     },
     "metadata": {},
     "output_type": "display_data"
    }
   ],
   "source": [
    "# ### Visualize data and labels ###\n",
    "plt.scatter(X[:, 0], X[:, 1], c=[np.argmax(x) for x in y], s=80, cmap=plt.cm.Spectral)\n",
    "plt.show()"
   ]
  },
  {
   "cell_type": "code",
   "execution_count": 5,
   "metadata": {
    "scrolled": true
   },
   "outputs": [
    {
     "name": "stdout",
     "output_type": "stream",
     "text": [
      "0 63321356.0\n",
      "1000 22614142.0\n",
      "2000 22569008.0\n",
      "3000 22556374.0\n",
      "4000 22547966.0\n",
      "5000 22540074.0\n",
      "6000 22529912.0\n",
      "7000 22518544.0\n",
      "8000 22507676.0\n",
      "9000 22497474.0\n"
     ]
    }
   ],
   "source": [
    "\n",
    "### Train neural net ###\n",
    "for t in range(epochs):\n",
    "    # Forward pass: compute predicted y\n",
    "    h = X.mm(W1)\n",
    "    h_relu = h.clamp(min=0)\n",
    "    y_pred = h_relu.mm(W2)\n",
    "\n",
    "    # Compute and print loss\n",
    "    loss = (y_pred - y).pow(2).sum()\n",
    "    if t % 1000 == 0:\n",
    "        print(t, loss)\n",
    "\n",
    "    # Backprop to compute gradients of w1 and w2 with respect to loss\n",
    "    grad_y_pred = 2.0 * (y_pred - y)\n",
    "    grad_w2 = h_relu.t().mm(grad_y_pred)\n",
    "    grad_h_relu = grad_y_pred.mm(W2.t())\n",
    "    grad_h = grad_h_relu.clone()\n",
    "    grad_h[h < 0] = 0\n",
    "    grad_w1 = X.t().mm(grad_h)\n",
    "\n",
    "    # Update weights using gradient descent\n",
    "    W1 -= learning_rate * grad_w1\n",
    "    W2 -= learning_rate * grad_w2\n",
    "    \n",
    "    loss_vec.append(loss)"
   ]
  },
  {
   "cell_type": "code",
   "execution_count": 6,
   "metadata": {},
   "outputs": [
    {
     "data": {
      "text/plain": [
       "[<matplotlib.lines.Line2D at 0x28202b25400>]"
      ]
     },
     "execution_count": 6,
     "metadata": {},
     "output_type": "execute_result"
    },
    {
     "data": {
      "image/png": "[encoded data removed]",
      "text/plain": [
       "<Figure size 432x288 with 1 Axes>"
      ]
     },
     "metadata": {},
     "output_type": "display_data"
    }
   ],
   "source": [
    "plt.plot(range(epochs), loss_vec, 'go--', linewidth=2, markersize=5)"
   ]
  },
  {
   "cell_type": "code",
   "execution_count": 7,
   "metadata": {},
   "outputs": [
    {
     "data": {
      "text/plain": [
       "(-1.6385800242424011, 7.241419975757607)"
      ]
     },
     "execution_count": 7,
     "metadata": {},
     "output_type": "execute_result"
    },
    {
     "data": {
      "image/png": "[encoded data removed]",
      "text/plain": [
       "<Figure size 432x288 with 1 Axes>"
      ]
     },
     "metadata": {},
     "output_type": "display_data"
    }
   ],
   "source": [
    "# plot the resulting classifier\n",
    "h = 0.02\n",
    "x_min, x_max = X[:, 0].min() - 1, X[:, 0].max() + 1\n",
    "y_min, y_max = X[:, 1].min() - 1, X[:, 1].max() + 1\n",
    "xx, yy = np.meshgrid(np.arange(x_min, x_max, h),\n",
    "                     np.arange(y_min, y_max, h))\n",
    "Z = np.dot(np.maximum(0, np.dot(np.c_[xx.ravel(), yy.ravel()], W1)), W2)\n",
    "Z = np.argmax(Z, axis=1)\n",
    "Z = Z.reshape(xx.shape)\n",
    "fig = plt.figure()\n",
    "plt.contourf(xx, yy, Z, cmap=plt.cm.Spectral, alpha=0.8)\n",
    "plt.scatter(X[:, 0], X[:, 1], c=[np.argmax(x) for x in y], s=40, cmap=plt.cm.Spectral)\n",
    "plt.xlim(xx.min(), xx.max())\n",
    "plt.ylim(yy.min(), yy.max())"
   ]
  },
  {
   "cell_type": "code",
   "execution_count": 8,
   "metadata": {},
   "outputs": [
    {
     "name": "stdout",
     "output_type": "stream",
     "text": [
      "training accuracy: 0.88\n"
     ]
    }
   ],
   "source": [
    "### Evaluate ###\n",
    "# evaluate training set accuracy\n",
    "h = X.mm(W1)\n",
    "# apply an activation function (ReLU) to the output of first layer\n",
    "h_relu = h.clamp(min=0)\n",
    "# calculate class scores\n",
    "scores = h_relu.mm(W2)\n",
    "# predict with these weights\n",
    "_, predicted_class = scores.max(1)\n",
    "predicted_class = predicted_class.type(dtype)\n",
    "print('training accuracy: %.2f' % (predicted_class.eq(torch.from_numpy(np.array([np.argmax(x) for x in y])).type(dtype)).sum() / N))"
   ]
  },
  {
   "cell_type": "markdown",
   "metadata": {},
   "source": [
    "## Further Reading\n",
    "\n",
    "1. Nice article on loss functions and optimization/optimizers [Ref](https://medium.com/data-science-group-iitr/loss-functions-and-optimization-algorithms-demystified-bb92daff331c)"
   ]
  },
  {
   "cell_type": "code",
   "execution_count": null,
   "metadata": {},
   "outputs": [],
   "source": []
  }
 ],
 "metadata": {
  "anaconda-cloud": {},
  "kernelspec": {
   "display_name": "Python [py36]",
   "language": "python",
   "name": "Python [py36]"
  },
  "language_info": {
   "codemirror_mode": {
    "name": "ipython",
    "version": 3
   },
   "file_extension": ".py",
   "mimetype": "text/x-python",
   "name": "python",
   "nbconvert_exporter": "python",
   "pygments_lexer": "ipython3",
   "version": "3.6.3"
  },
  "toc": {
   "nav_menu": {},
   "number_sections": true,
   "sideBar": true,
   "skip_h1_title": false,
   "toc_cell": true,
   "toc_position": {},
   "toc_section_display": "block",
   "toc_window_display": false
  }
 },
 "nbformat": 4,
 "nbformat_minor": 1
}
