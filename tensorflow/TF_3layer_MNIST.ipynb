{
 "cells": [
  {
   "cell_type": "markdown",
   "metadata": {},
   "source": [
    "## A graph representation of a simple calculation"
   ]
  },
  {
   "cell_type": "markdown",
   "metadata": {},
   "source": [
    "This notebook is adapted from a tensorflow tutorial from this [blog post](http://adventuresinmachinelearning.com/python-tensorflow-tutorial/).\n",
    "\n",
    "![](http://adventuresinmachinelearning.com/wp-content/uploads/2017/03/Simple-graph-example.png)\n",
    "\n",
    "```\n",
    "d = b + c\n",
    "e = c + 2\n",
    "a = d * e\n",
    "```"
   ]
  },
  {
   "cell_type": "markdown",
   "metadata": {},
   "source": [
    "### Some simple tensorflow for this simple calculation\n",
    "\n",
    "These variables don't even get declared until the whole thing (including the graph) is initialized."
   ]
  },
  {
   "cell_type": "code",
   "execution_count": 9,
   "metadata": {
    "collapsed": true
   },
   "outputs": [],
   "source": [
    "import tensorflow as tf\n",
    "import numpy as np"
   ]
  },
  {
   "cell_type": "code",
   "execution_count": 2,
   "metadata": {},
   "outputs": [],
   "source": [
    "# Input constant and variables\n",
    "const = tf.constant(2.0, name='const')\n",
    "b = tf.Variable(2.0, name='b')\n",
    "c = tf.Variable(1.0, name='c')"
   ]
  },
  {
   "cell_type": "markdown",
   "metadata": {},
   "source": [
    "Now for the operations (only setting these up)"
   ]
  },
  {
   "cell_type": "code",
   "execution_count": 3,
   "metadata": {
    "collapsed": true
   },
   "outputs": [],
   "source": [
    "d = tf.add(b, c, name='d')\n",
    "e = tf.add(c, const, name='e')\n",
    "a = tf.multiply(d, e, name='a')"
   ]
  },
  {
   "cell_type": "markdown",
   "metadata": {},
   "source": [
    "The next step is to setup an object to initialise the variables and the graph structure"
   ]
  },
  {
   "cell_type": "code",
   "execution_count": 4,
   "metadata": {
    "collapsed": true
   },
   "outputs": [],
   "source": [
    "init_op = tf.global_variables_initializer()"
   ]
  },
  {
   "cell_type": "markdown",
   "metadata": {},
   "source": [
    "The TensorFlow session is an object where all operations are run.  Using the with Python syntax, we can run the graph with the following code"
   ]
  },
  {
   "cell_type": "code",
   "execution_count": 7,
   "metadata": {},
   "outputs": [
    {
     "name": "stdout",
     "output_type": "stream",
     "text": [
      "Variable a = 9.0\n"
     ]
    }
   ],
   "source": [
    "with tf.Session() as sess:\n",
    "    # Initialise the (global) variables\n",
    "    sess.run(init_op)\n",
    "    \n",
    "    # Comput the output of the graph\n",
    "    a_out = sess.run(a)\n",
    "    \n",
    "    # Print\n",
    "    print('Variable a = {}'.format(a_out))"
   ]
  },
  {
   "cell_type": "markdown",
   "metadata": {},
   "source": [
    "### Let's complicate it:  what if b was an unknown array of values"
   ]
  },
  {
   "cell_type": "markdown",
   "metadata": {},
   "source": [
    "We can use a placeholder and declare an unknown-size array"
   ]
  },
  {
   "cell_type": "code",
   "execution_count": 11,
   "metadata": {
    "collapsed": true
   },
   "outputs": [],
   "source": [
    "b = tf.placeholder(tf.float32, shape=[None, 1], name='b')"
   ]
  },
  {
   "cell_type": "code",
   "execution_count": 12,
   "metadata": {
    "collapsed": true
   },
   "outputs": [],
   "source": [
    "# Let's redefine the other variables\n",
    "const = tf.constant(2.0, name='const')\n",
    "c = tf.Variable(1.0, name='c')\n",
    "\n",
    "# And operations to the graph\n",
    "d = tf.add(b, c, name='d')\n",
    "e = tf.add(c, const, name='e')\n",
    "a = tf.multiply(d, e, name='a')"
   ]
  },
  {
   "cell_type": "code",
   "execution_count": 13,
   "metadata": {},
   "outputs": [
    {
     "name": "stdout",
     "output_type": "stream",
     "text": [
      "Variable a = [[  3.]\n",
      " [  6.]\n",
      " [  9.]\n",
      " [ 12.]\n",
      " [ 15.]\n",
      " [ 18.]\n",
      " [ 21.]\n",
      " [ 24.]\n",
      " [ 27.]\n",
      " [ 30.]]\n"
     ]
    }
   ],
   "source": [
    "init_op = tf.global_variables_initializer()\n",
    "\n",
    "with tf.Session() as sess:\n",
    "    # Initialise the (global) variables\n",
    "    sess.run(init_op)\n",
    "    \n",
    "    # Comput the output of the graph\n",
    "    a_out = sess.run(a, feed_dict={b: np.arange(0, 10)[:, np.newaxis]})\n",
    "    \n",
    "    # Print\n",
    "    print('Variable a = {}'.format(a_out))"
   ]
  },
  {
   "cell_type": "markdown",
   "metadata": {},
   "source": [
    "## Neural network time\n",
    "\n",
    "Let's build a three-layer dense NN!"
   ]
  },
  {
   "cell_type": "markdown",
   "metadata": {},
   "source": [
    "Get the MNIST data from tensorflow examples."
   ]
  },
  {
   "cell_type": "code",
   "execution_count": 14,
   "metadata": {},
   "outputs": [
    {
     "name": "stdout",
     "output_type": "stream",
     "text": [
      "Successfully downloaded train-images-idx3-ubyte.gz 9912422 bytes.\n",
      "Extracting MNIST_data/train-images-idx3-ubyte.gz\n",
      "Successfully downloaded train-labels-idx1-ubyte.gz 28881 bytes.\n",
      "Extracting MNIST_data/train-labels-idx1-ubyte.gz\n",
      "Successfully downloaded t10k-images-idx3-ubyte.gz 1648877 bytes.\n",
      "Extracting MNIST_data/t10k-images-idx3-ubyte.gz\n",
      "Successfully downloaded t10k-labels-idx1-ubyte.gz 4542 bytes.\n",
      "Extracting MNIST_data/t10k-labels-idx1-ubyte.gz\n"
     ]
    }
   ],
   "source": [
    "from tensorflow.examples.tutorials.mnist import input_data\n",
    "mnist = input_data.read_data_sets('MNIST_data/', one_hot=True)"
   ]
  },
  {
   "cell_type": "markdown",
   "metadata": {},
   "source": [
    "### Set up the network\n",
    "\n",
    "Summary of steps:\n",
    "1.  Define parameters.\n",
    "2.  Input and output layer placeholders.\n",
    "3.  Input layer to hidden layer tensors (1. weights and 2. bias)\n",
    "4.  Hidden layer to output layer tensors (1. weights and 2. bias)\n",
    "5.  Input, hidden layer and output operations.\n",
    "6.  Cost function for the optimizer.\n",
    "7.  Optimizer.\n",
    "8.  Initialization operation.\n",
    "9.  Accuracy operation.\n",
    "\n",
    "Input layer is 784 nodes.  Output layer is 10 nodes."
   ]
  },
  {
   "cell_type": "code",
   "execution_count": 15,
   "metadata": {
    "collapsed": true
   },
   "outputs": [],
   "source": [
    "learning_rate = 0.5\n",
    "epochs = 10\n",
    "batch_size = 100\n",
    "\n",
    "# Input for x - dim is 28x28 or 784 pixel values\n",
    "x = tf.placeholder(tf.float32, shape=[None, 784])\n",
    "# Input for y (the one-hot labels, or output)\n",
    "y = tf.placeholder(tf.float32, shape=[None, 10])"
   ]
  },
  {
   "cell_type": "markdown",
   "metadata": {},
   "source": [
    "Now we need to setup the weight and bias variables for the three layer neural network.  There are always L-1 number of weights/bias tensors, where L is the number of layers.  So in this case, we need to setup two tensors for each.\n",
    "\n",
    "\n",
    "This neural network will have 300 nodes in the hidden layer, so the size of the weight tensor W1 is [784, 300]. Likewise, we create W2 and b2 variables to connect the hidden layer to the output layer of the neural network."
   ]
  },
  {
   "cell_type": "code",
   "execution_count": 17,
   "metadata": {},
   "outputs": [],
   "source": [
    "# Input layer to hidden layer tensors\n",
    "W1 = tf.Variable(tf.random_normal([784, 300], stddev=0.03), name='W1')\n",
    "b1 = tf.Variable(tf.random_normal([300]), name='b1')\n",
    "\n",
    "# Hidden layer to output layer tensors\n",
    "W2 = tf.Variable(tf.random_normal([300, 10], stddev=0.03), name='W2')\n",
    "b2 = tf.Variable(tf.random_normal([10]), name='b2')"
   ]
  },
  {
   "cell_type": "markdown",
   "metadata": {},
   "source": [
    "Our input and hidden layer operations.  Node inputs and activation function setup."
   ]
  },
  {
   "cell_type": "code",
   "execution_count": 18,
   "metadata": {
    "collapsed": true
   },
   "outputs": [],
   "source": [
    "hidden_out = tf.add(tf.matmul(x, W1), b1)\n",
    "hidden_out = tf.nn.relu(hidden_out)"
   ]
  },
  {
   "cell_type": "markdown",
   "metadata": {},
   "source": [
    "Our output layer operations.  Softmax to get probabilities."
   ]
  },
  {
   "cell_type": "code",
   "execution_count": 19,
   "metadata": {
    "collapsed": true
   },
   "outputs": [],
   "source": [
    "y_ = tf.nn.softmax(tf.add(tf.matmul(hidden_out, W2), b2))\n"
   ]
  },
  {
   "cell_type": "markdown",
   "metadata": {},
   "source": [
    "The cost function for the optimizer to work on.\n",
    "\n",
    "The first line is an operation converting the output `y_` to a clipped version, limited between 1e-10 to 0.999999.  This is to make sure that we never get a case were we have a log(0) operation occurring during training.\n",
    "\n",
    "The second line is the cross entropy calculation.  (See the blog post for more details around this calculation)"
   ]
  },
  {
   "cell_type": "code",
   "execution_count": 21,
   "metadata": {
    "collapsed": true
   },
   "outputs": [],
   "source": [
    "y_clipped = tf.clip_by_value(y_, 1e-10, 0.9999999)\n",
    "cross_entropy = -tf.reduce_mean(tf.reduce_sum(\n",
    "        y * tf.log(y_clipped)\n",
    "        + (1 - y)\n",
    "        * tf.log(1 - y_clipped),\n",
    "    axis=1))"
   ]
  },
  {
   "cell_type": "markdown",
   "metadata": {},
   "source": [
    "Set up the optimizer.  This function will then perform the gradient descent and the backpropagation for you. "
   ]
  },
  {
   "cell_type": "code",
   "execution_count": 22,
   "metadata": {
    "collapsed": true
   },
   "outputs": [],
   "source": [
    "optimizer = tf.train.GradientDescentOptimizer(learning_rate=learning_rate).minimize(cross_entropy)"
   ]
  },
  {
   "cell_type": "markdown",
   "metadata": {},
   "source": [
    "Set up the variable initialisation operation and an operation to measure the accuracy of our predictions."
   ]
  },
  {
   "cell_type": "code",
   "execution_count": 23,
   "metadata": {
    "collapsed": true
   },
   "outputs": [],
   "source": [
    "init_op = tf.global_variables_initializer()\n",
    "\n",
    "# Accuracy calculation\n",
    "correct_prediction = tf.equal(tf.argmax(y, axis=1), tf.argmax(y_, axis=1))\n",
    "accuracy = tf.reduce_mean(tf.cast(correct_prediction, dtype=tf.float32))"
   ]
  },
  {
   "cell_type": "markdown",
   "metadata": {},
   "source": [
    "### Set up the training"
   ]
  },
  {
   "cell_type": "code",
   "execution_count": 26,
   "metadata": {},
   "outputs": [
    {
     "name": "stdout",
     "output_type": "stream",
     "text": [
      "Epoch  1 Cost =  0.684\n",
      "Epoch  2 Cost =  0.252\n",
      "Epoch  3 Cost =  0.188\n",
      "Epoch  4 Cost =  0.150\n",
      "Epoch  5 Cost =  0.125\n",
      "Epoch  6 Cost =  0.105\n",
      "Epoch  7 Cost =  0.091\n",
      "Epoch  8 Cost =  0.076\n",
      "Epoch  9 Cost =  0.066\n",
      "Epoch  10 Cost =  0.057\n",
      "0.9748\n"
     ]
    }
   ],
   "source": [
    "with tf.Session() as sess:\n",
    "    # Run the initialization\n",
    "    sess.run(init_op)\n",
    "    # How many batches - training samples / minibatch size we set\n",
    "    total_batch = int(len(mnist.train.labels) / batch_size)\n",
    "    for epoch in range(epochs):\n",
    "        avg_cost = 0\n",
    "        # Go through each training sample in minibatch chunk\n",
    "        for i in range(total_batch):\n",
    "            batch_x, batch_y = mnist.train.next_batch(batch_size=batch_size)\n",
    "            # Cost\n",
    "            _, c = sess.run([optimizer, cross_entropy],\n",
    "                           feed_dict={x: batch_x, y: batch_y})\n",
    "            avg_cost += c\n",
    "        print('Epoch ', epoch+1, 'Cost = ', '{:.3f}'.format(avg_cost / total_batch))\n",
    "    print(sess.run(accuracy, feed_dict={x: mnist.test.images, y: mnist.test.labels}))"
   ]
  },
  {
   "cell_type": "code",
   "execution_count": null,
   "metadata": {
    "collapsed": true
   },
   "outputs": [],
   "source": []
  }
 ],
 "metadata": {
  "kernelspec": {
   "display_name": "Python 3",
   "language": "python",
   "name": "python3"
  },
  "language_info": {
   "codemirror_mode": {
    "name": "ipython",
    "version": 3
   },
   "file_extension": ".py",
   "mimetype": "text/x-python",
   "name": "python",
   "nbconvert_exporter": "python",
   "pygments_lexer": "ipython3",
   "version": "3.5.3"
  },
  "nav_menu": {},
  "toc": {
   "navigate_menu": true,
   "number_sections": true,
   "sideBar": true,
   "threshold": 6,
   "toc_cell": false,
   "toc_section_display": "block",
   "toc_window_display": false
  }
 },
 "nbformat": 4,
 "nbformat_minor": 2
}
